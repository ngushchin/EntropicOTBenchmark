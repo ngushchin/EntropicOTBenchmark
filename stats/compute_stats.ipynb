{
 "cells": [
  {
   "cell_type": "code",
   "execution_count": 1,
   "metadata": {},
   "outputs": [],
   "source": [
    "import os, sys\n",
    "sys.path.append(\"..\")\n",
    "\n",
    "import matplotlib\n",
    "import numpy as np\n",
    "import matplotlib.pyplot as plt\n",
    "%matplotlib inline \n",
    "\n",
    "import numpy as np\n",
    "import torch\n",
    "import torch.nn as nn\n",
    "import torchvision\n",
    "import gc\n",
    "\n",
    "from src.tools import unfreeze, freeze\n",
    "from src.tools import load_dataset, get_loader_stats\n",
    "\n",
    "from copy import deepcopy\n",
    "import json\n",
    "\n",
    "from tqdm import tqdm_notebook as tqdm\n",
    "from IPython.display import clear_output\n",
    "\n",
    "# This needed to use dataloaders for some datasets\n",
    "from PIL import PngImagePlugin\n",
    "LARGE_ENOUGH_NUMBER = 100\n",
    "PngImagePlugin.MAX_TEXT_CHUNK = LARGE_ENOUGH_NUMBER * (1024**2)\n",
    "\n",
    "# from src.anime_benchmark import get_anime_benchmark\n",
    "from eot_benchmark.image_benchmark import get_image_benchmark"
   ]
  },
  {
   "cell_type": "code",
   "execution_count": 2,
   "metadata": {},
   "outputs": [],
   "source": [
    "gc.collect(); torch.cuda.empty_cache()"
   ]
  },
  {
   "cell_type": "markdown",
   "metadata": {},
   "source": [
    "## Main Config"
   ]
  },
  {
   "cell_type": "code",
   "execution_count": 3,
   "metadata": {
    "tags": [
     "parameters"
    ]
   },
   "outputs": [],
   "source": [
    "DEVICE_ID = 4\n",
    "EPS = 1\n",
    "N_EPOCHS = 1\n",
    "\n",
    "assert torch.cuda.is_available()\n",
    "torch.cuda.set_device(f'cuda:{DEVICE_ID}')"
   ]
  },
  {
   "cell_type": "code",
   "execution_count": 4,
   "metadata": {},
   "outputs": [
    {
     "name": "stderr",
     "output_type": "stream",
     "text": [
      "/opt/anaconda3/lib/python3.8/site-packages/eot_benchmark-0.2-py3.8.egg/eot_benchmark/glow_model.py:102: UserWarning: The given NumPy array is not writable, and PyTorch does not support non-writable tensors. This means writing to this tensor will result in undefined behavior. You may want to copy the array to protect its data or make it writable before converting it to a tensor. This type of warning will be suppressed for the rest of this program. (Triggered internally at ../torch/csrc/utils/tensor_numpy.cpp:199.)\n"
     ]
    }
   ],
   "source": [
    "benchmark = get_image_benchmark(batch_size=20, eps=EPS,\n",
    "                                glow_device=f\"cuda:{DEVICE_ID}\",\n",
    "                                samples_device=f\"cuda:{DEVICE_ID}\",\n",
    "                                download=False)"
   ]
  },
  {
   "cell_type": "code",
   "execution_count": 5,
   "metadata": {},
   "outputs": [],
   "source": [
    "X_sampler = benchmark.X_sampler\n",
    "X_test_sampler = benchmark.X_test_sampler\n",
    "\n",
    "Y_sampler = benchmark.Y_sampler\n",
    "Y_test_sampler = benchmark.Y_test_sampler"
   ]
  },
  {
   "cell_type": "code",
   "execution_count": 6,
   "metadata": {},
   "outputs": [
    {
     "name": "stdout",
     "output_type": "stream",
     "text": [
      "Trace of sigma: 59.45514261146577\n",
      "Stats computed\n",
      "States saved to Image_Y_test_eps_1.json\n"
     ]
    }
   ],
   "source": [
    "for sampler in [Y_test_sampler]:\n",
    "    mu, sigma = get_loader_stats(sampler.loader, n_epochs=N_EPOCHS)\n",
    "    print('Trace of sigma: {}'.format(np.trace(sigma)))\n",
    "    stats = {'mu' : mu.tolist(), 'sigma' : sigma.tolist()}\n",
    "    print('Stats computed')\n",
    "\n",
    "    filename = f\"Image_Y_test_eps_{EPS}.json\"\n",
    "    with open(filename, 'w') as fp:\n",
    "        json.dump(stats, fp)\n",
    "    print('States saved to {}'.format(filename))"
   ]
  },
  {
   "cell_type": "code",
   "execution_count": null,
   "metadata": {},
   "outputs": [],
   "source": []
  },
  {
   "cell_type": "code",
   "execution_count": null,
   "metadata": {},
   "outputs": [],
   "source": []
  },
  {
   "cell_type": "code",
   "execution_count": 6,
   "metadata": {},
   "outputs": [
    {
     "name": "stdout",
     "output_type": "stream",
     "text": [
      "Trace of sigma: 59.455142740923584\n",
      "Stats computed\n",
      "States saved to Image_Y_test_eps_0.1.json\n"
     ]
    }
   ],
   "source": [
    "for sampler in [Y_test_sampler]:\n",
    "    mu, sigma = get_loader_stats(sampler.loader, n_epochs=N_EPOCHS)\n",
    "    print('Trace of sigma: {}'.format(np.trace(sigma)))\n",
    "    stats = {'mu' : mu.tolist(), 'sigma' : sigma.tolist()}\n",
    "    print('Stats computed')\n",
    "\n",
    "    filename = f\"Image_Y_test_eps_{EPS}.json\"\n",
    "    with open(filename, 'w') as fp:\n",
    "        json.dump(stats, fp)\n",
    "    print('States saved to {}'.format(filename))"
   ]
  },
  {
   "cell_type": "code",
   "execution_count": null,
   "metadata": {},
   "outputs": [],
   "source": []
  }
 ],
 "metadata": {
  "celltoolbar": "Tags",
  "kernelspec": {
   "display_name": "Python 3",
   "language": "python",
   "name": "python3"
  },
  "language_info": {
   "codemirror_mode": {
    "name": "ipython",
    "version": 3
   },
   "file_extension": ".py",
   "mimetype": "text/x-python",
   "name": "python",
   "nbconvert_exporter": "python",
   "pygments_lexer": "ipython3",
   "version": "3.8.5"
  }
 },
 "nbformat": 4,
 "nbformat_minor": 4
}
