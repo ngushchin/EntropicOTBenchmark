{
 "cells": [
  {
   "cell_type": "code",
   "execution_count": 1,
   "metadata": {},
   "outputs": [],
   "source": [
    "import os, sys\n",
    "sys.path.append(\"..\")\n",
    "\n",
    "import pickle\n",
    "import torch\n",
    "import numpy as np\n",
    "\n",
    "from matplotlib import pyplot as plt\n",
    "\n",
    "from torch.distributions.mixture_same_family import MixtureSameFamily\n",
    "from torch.distributions.categorical import Categorical\n",
    "from torch.distributions.multivariate_normal import MultivariateNormal\n",
    "\n",
    "from sklearn.decomposition import PCA\n",
    "from scipy.stats import ortho_group\n",
    "\n",
    "from sklearn.decomposition import PCA\n",
    "from src.gaussian_benchmark import GaussianBenchmark\n",
    "\n",
    "from zipfile import ZipFile"
   ]
  },
  {
   "cell_type": "code",
   "execution_count": 2,
   "metadata": {},
   "outputs": [],
   "source": [
    "dims = [2, 4, 8, 16, 32, 64, 128]\n",
    "epsilons = [0.1, 1, 10]\n",
    "\n",
    "for dim in dims:\n",
    "    for eps in epsilons:\n",
    "        benchmark = GaussianBenchmark(dim=dim, eps=eps, device=\"cpu\")\n",
    "        \n",
    "        with open(f\"../data/gaussian_benchmark_dim_{dim}_eps_{eps}.pkl\", \"wb\") as f:\n",
    "            pickle.dump(benchmark, f)"
   ]
  },
  {
   "cell_type": "code",
   "execution_count": 3,
   "metadata": {},
   "outputs": [],
   "source": [
    "with ZipFile('../data/gaussian_benchmark.zip', 'w') as zipObj2:\n",
    "    for dim in dims:\n",
    "        for eps in epsilons:\n",
    "            zipObj2.write(f\"../data/gaussian_benchmark_dim_{dim}_eps_{eps}.pkl\")"
   ]
  },
  {
   "cell_type": "code",
   "execution_count": null,
   "metadata": {},
   "outputs": [],
   "source": []
  }
 ],
 "metadata": {
  "kernelspec": {
   "display_name": "Python 3",
   "language": "python",
   "name": "python3"
  },
  "language_info": {
   "codemirror_mode": {
    "name": "ipython",
    "version": 3
   },
   "file_extension": ".py",
   "mimetype": "text/x-python",
   "name": "python",
   "nbconvert_exporter": "python",
   "pygments_lexer": "ipython3",
   "version": "3.8.5"
  }
 },
 "nbformat": 4,
 "nbformat_minor": 4
}
