{
 "cells": [
  {
   "cell_type": "code",
   "execution_count": 1,
   "id": "60c92ef0",
   "metadata": {},
   "outputs": [],
   "source": [
    "from eot_benchmark.rotated_gaussian_benchmark import (get_rotated_gaussian_dataset,\n",
    "                                                  get_rotated_gaussian_sampler,\n",
    "                                                  get_rotated_gaussian_benchmark_stats)\n",
    "from eot_benchmark.metrics import compute_BW_UVP_with_gt_stats"
   ]
  },
  {
   "cell_type": "code",
   "execution_count": 2,
   "id": "4f545925",
   "metadata": {},
   "outputs": [],
   "source": [
    "DIM = 2\n",
    "EPS = 1\n",
    "BATCHS_SIZE = 64\n",
    "BENCHMARK_DATA_PATH = \"benchmark_data/\""
   ]
  },
  {
   "cell_type": "markdown",
   "id": "e49a9bac",
   "metadata": {},
   "source": [
    "### Dataset and samplers loading"
   ]
  },
  {
   "cell_type": "markdown",
   "id": "4dfa9989",
   "metadata": {},
   "source": [
    "Datasets"
   ]
  },
  {
   "cell_type": "code",
   "execution_count": 3,
   "id": "095883c6",
   "metadata": {},
   "outputs": [
    {
     "name": "stderr",
     "output_type": "stream",
     "text": [
      "Downloading...\n",
      "From: https://drive.google.com/uc?id=1ZOUXFdkssPbGJb1jPhVK1dh8lkwu0Sx0\n",
      "To: /home/n.gushchin/EntropicOTBenchmark/benchmark/benchmark_data/rotated_gaussians.zip\n",
      "100%|██████████| 172k/172k [00:00<00:00, 360kB/s]\n"
     ]
    }
   ],
   "source": [
    "X_dataset = get_rotated_gaussian_dataset(\"input\", DIM, benchmark_data_path=BENCHMARK_DATA_PATH, download=True)\n",
    "Y_dataset = get_rotated_gaussian_dataset(\"target\", DIM, benchmark_data_path=BENCHMARK_DATA_PATH)"
   ]
  },
  {
   "cell_type": "markdown",
   "id": "2f4232e8",
   "metadata": {},
   "source": [
    "Classic samplers"
   ]
  },
  {
   "cell_type": "code",
   "execution_count": 4,
   "id": "c490899f",
   "metadata": {},
   "outputs": [],
   "source": [
    "X_sampler = get_rotated_gaussian_sampler(\"input\", DIM, with_density=False,\n",
    "                                         batch_size=BATCHS_SIZE, benchmark_data_path=BENCHMARK_DATA_PATH)\n",
    "Y_sampler = get_rotated_gaussian_sampler(\"target\", DIM, with_density=False,\n",
    "                                         batch_size=BATCHS_SIZE, benchmark_data_path=BENCHMARK_DATA_PATH)"
   ]
  },
  {
   "cell_type": "markdown",
   "id": "66c4f3f0",
   "metadata": {},
   "source": [
    "Special samplers with density of normal distirbutions"
   ]
  },
  {
   "cell_type": "code",
   "execution_count": 5,
   "id": "a8bceebf",
   "metadata": {},
   "outputs": [],
   "source": [
    "X_sampler_dens = get_rotated_gaussian_sampler(\"input\", DIM, with_density=True,\n",
    "                                         batch_size=BATCHS_SIZE, benchmark_data_path=BENCHMARK_DATA_PATH)\n",
    "Y_sampler_dens = get_rotated_gaussian_sampler(\"target\", DIM, with_density=True,\n",
    "                                         batch_size=BATCHS_SIZE, benchmark_data_path=BENCHMARK_DATA_PATH)"
   ]
  },
  {
   "cell_type": "markdown",
   "id": "445b84d0",
   "metadata": {},
   "source": [
    "Example of log_prob calculation"
   ]
  },
  {
   "cell_type": "code",
   "execution_count": 6,
   "id": "e03620ee",
   "metadata": {},
   "outputs": [
    {
     "data": {
      "text/plain": [
       "tensor([-1.9731, -2.6806, -2.2758, -2.4777, -2.9597, -2.8711, -2.3525, -2.9822,\n",
       "        -6.3121, -3.0533, -2.0239, -5.7710, -2.7076, -3.6849, -3.0744, -1.8496,\n",
       "        -2.3634, -2.0693, -3.9769, -2.3335, -1.9691, -3.4782, -2.6403, -2.1831,\n",
       "        -2.9486, -1.9903, -2.3156, -2.6313, -3.9132, -1.8889, -2.3472, -3.4975,\n",
       "        -2.0475, -2.5427, -2.3965, -4.7103, -3.2327, -3.0021, -2.2662, -1.8900,\n",
       "        -2.0052, -2.0276, -1.9536, -2.6335, -3.0683, -6.1038, -2.7909, -3.4268,\n",
       "        -2.6843, -2.3477, -2.2182, -1.9861, -2.4827, -3.3401, -2.6596, -2.0147,\n",
       "        -1.9450, -3.0713, -2.5400, -4.6519, -3.9368, -2.5261, -2.1578, -3.3087])"
      ]
     },
     "execution_count": 6,
     "metadata": {},
     "output_type": "execute_result"
    }
   ],
   "source": [
    "X_sampler_dens.log_prob(X_sampler_dens.sample())"
   ]
  },
  {
   "cell_type": "markdown",
   "id": "4b9f3800",
   "metadata": {},
   "source": [
    "Getting stats for BW-UVP calculation"
   ]
  },
  {
   "cell_type": "code",
   "execution_count": 7,
   "id": "6c9e128f",
   "metadata": {},
   "outputs": [],
   "source": [
    "stats = get_rotated_gaussian_benchmark_stats(DIM, EPS, BENCHMARK_DATA_PATH)"
   ]
  },
  {
   "cell_type": "code",
   "execution_count": 8,
   "id": "fa2dc49d",
   "metadata": {},
   "outputs": [],
   "source": [
    "mu_X, mu_Y, covariance_X, covariance_Y, optimal_plan_mu, optimal_plan_covariance = stats"
   ]
  },
  {
   "cell_type": "markdown",
   "id": "3159a743",
   "metadata": {},
   "source": [
    "Example of BW-UVP calculation"
   ]
  },
  {
   "cell_type": "code",
   "execution_count": 9,
   "id": "91fa6f3f",
   "metadata": {},
   "outputs": [
    {
     "data": {
      "text/plain": [
       "2.288600033730864"
      ]
     },
     "execution_count": 9,
     "metadata": {},
     "output_type": "execute_result"
    }
   ],
   "source": [
    "compute_BW_UVP_with_gt_stats(\n",
    "    X_sampler.sample(BATCHS_SIZE).detach().cpu().numpy(),\n",
    "    true_samples_mu=mu_X,\n",
    "    true_samples_covariance=covariance_X\n",
    ")"
   ]
  },
  {
   "cell_type": "code",
   "execution_count": null,
   "id": "06158232",
   "metadata": {},
   "outputs": [],
   "source": []
  }
 ],
 "metadata": {
  "kernelspec": {
   "display_name": "Python 3",
   "language": "python",
   "name": "python3"
  },
  "language_info": {
   "codemirror_mode": {
    "name": "ipython",
    "version": 3
   },
   "file_extension": ".py",
   "mimetype": "text/x-python",
   "name": "python",
   "nbconvert_exporter": "python",
   "pygments_lexer": "ipython3",
   "version": "3.8.5"
  }
 },
 "nbformat": 4,
 "nbformat_minor": 5
}
