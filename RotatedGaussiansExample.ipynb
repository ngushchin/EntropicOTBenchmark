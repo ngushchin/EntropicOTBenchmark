{
 "cells": [
  {
   "cell_type": "code",
   "execution_count": 1,
   "id": "b15e7103",
   "metadata": {},
   "outputs": [],
   "source": [
    "from benchmark.rotated_gaussian_benchmark import (get_rotated_gaussian_dataset,\n",
    "                                                  get_rotated_gaussian_sampler,\n",
    "                                                  get_rotated_gaussian_benchmark_stats)"
   ]
  },
  {
   "cell_type": "code",
   "execution_count": 2,
   "id": "c5f31073",
   "metadata": {},
   "outputs": [],
   "source": [
    "DIM = 2\n",
    "EPS = 1\n",
    "BATCHS_SIZE = 64\n",
    "BENCHMARK_DATA_PATH = \"benchmark/benchmark_data/\""
   ]
  },
  {
   "cell_type": "code",
   "execution_count": 3,
   "id": "ba5ed292",
   "metadata": {},
   "outputs": [
    {
     "name": "stderr",
     "output_type": "stream",
     "text": [
      "Downloading...\n",
      "From: https://drive.google.com/uc?id=1ZOUXFdkssPbGJb1jPhVK1dh8lkwu0Sx0\n",
      "To: /home/n.gushchin/EntropicOTBenchmark/benchmark/benchmark_data/rotated_gaussians.zip\n",
      "100%|██████████| 172k/172k [00:01<00:00, 91.1kB/s]\n"
     ]
    }
   ],
   "source": [
    "dataset_X = get_rotated_gaussian_dataset(\"input\", DIM, benchmark_data_path=BENCHMARK_DATA_PATH, download=True)\n",
    "dataset_Y = get_rotated_gaussian_dataset(\"target\", DIM, benchmark_data_path=BENCHMARK_DATA_PATH)"
   ]
  },
  {
   "cell_type": "code",
   "execution_count": 4,
   "id": "d11ca88b",
   "metadata": {},
   "outputs": [],
   "source": [
    "sampler_X = get_rotated_gaussian_sampler(\"input\", DIM,\n",
    "                                         batch_size=BATCHS_SIZE, benchmark_data_path=BENCHMARK_DATA_PATH)\n",
    "sampler_Y = get_rotated_gaussian_sampler(\"target\", DIM,\n",
    "                                         batch_size=BATCHS_SIZE, benchmark_data_path=BENCHMARK_DATA_PATH)"
   ]
  },
  {
   "cell_type": "code",
   "execution_count": 5,
   "id": "e3be20b5",
   "metadata": {},
   "outputs": [],
   "source": [
    "stats = get_rotated_gaussian_benchmark_stats(DIM, EPS, BENCHMARK_DATA_PATH)"
   ]
  },
  {
   "cell_type": "code",
   "execution_count": null,
   "id": "50b65de6",
   "metadata": {},
   "outputs": [],
   "source": []
  }
 ],
 "metadata": {
  "kernelspec": {
   "display_name": "Python 3",
   "language": "python",
   "name": "python3"
  },
  "language_info": {
   "codemirror_mode": {
    "name": "ipython",
    "version": 3
   },
   "file_extension": ".py",
   "mimetype": "text/x-python",
   "name": "python",
   "nbconvert_exporter": "python",
   "pygments_lexer": "ipython3",
   "version": "3.8.5"
  }
 },
 "nbformat": 4,
 "nbformat_minor": 5
}
