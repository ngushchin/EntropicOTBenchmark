{
 "cells": [
  {
   "cell_type": "markdown",
   "metadata": {},
   "source": [
    "# Code for gaussian benchmark baselines"
   ]
  },
  {
   "cell_type": "markdown",
   "metadata": {},
   "source": [
    "## 1. Imports"
   ]
  },
  {
   "cell_type": "code",
   "execution_count": 1,
   "metadata": {},
   "outputs": [],
   "source": [
    "from eot_benchmark.gaussian_mixture_benchmark import (\n",
    "    get_guassian_mixture_benchmark_sampler,\n",
    "    get_guassian_mixture_benchmark_ground_truth_sampler, \n",
    ")\n",
    "\n",
    "from eot_benchmark.metrics import compute_BW_UVP_by_gt_samples, calculate_gm_benchmark_normalized_mmd"
   ]
  },
  {
   "cell_type": "code",
   "execution_count": 2,
   "metadata": {},
   "outputs": [],
   "source": [
    "import math\n",
    "import gc\n",
    "import wandb\n",
    "import numpy as np\n",
    "\n",
    "from matplotlib import pyplot as plt\n",
    "\n",
    "from tqdm import tqdm\n",
    "\n",
    "import warnings\n",
    "warnings.filterwarnings('ignore')\n",
    "from IPython.display import clear_output\n",
    "\n",
    "import os, sys\n",
    "sys.path.append(\"..\")\n",
    "\n",
    "import torch\n",
    "from torch import nn\n",
    "\n",
    "from sklearn.metrics import pairwise_distances\n",
    "from sklearn.decomposition import PCA"
   ]
  },
  {
   "cell_type": "code",
   "execution_count": 3,
   "metadata": {},
   "outputs": [],
   "source": [
    "gc.collect(); torch.cuda.empty_cache()"
   ]
  },
  {
   "cell_type": "markdown",
   "metadata": {},
   "source": [
    "## 2. Config"
   ]
  },
  {
   "cell_type": "code",
   "execution_count": 4,
   "metadata": {},
   "outputs": [],
   "source": [
    "DIM = 16\n",
    "EPS = 1\n",
    "assert DIM > 1\n",
    "\n",
    "L1 = 1e-10\n",
    "GPU_DEVICE = 1\n",
    "EPSILON = EPS\n",
    "BATCH_SIZE = 32\n",
    "\n",
    "SEED = 42\n",
    "MAX_STEPS = 2000\n",
    "METRICS_INTERVAL = 500\n",
    "CONTINUE = -1"
   ]
  },
  {
   "cell_type": "code",
   "execution_count": 5,
   "metadata": {},
   "outputs": [],
   "source": [
    "EXP_NAME = f'Gaussians_identity_baseline_EPSILON_{EPSILON}_DIM_{DIM}'\n",
    "\n",
    "config = dict(\n",
    "    DIM=DIM,\n",
    "    EPSILON=EPSILON,\n",
    "    SEED=SEED,\n",
    "    MAX_STEPS=MAX_STEPS,\n",
    ")"
   ]
  },
  {
   "cell_type": "code",
   "execution_count": 6,
   "metadata": {},
   "outputs": [],
   "source": [
    "# assert torch.cuda.is_available()\n",
    "# torch.cuda.set_device(GPU_DEVICE)"
   ]
  },
  {
   "cell_type": "markdown",
   "metadata": {},
   "source": [
    "## 3. Initialize Benchmark"
   ]
  },
  {
   "cell_type": "code",
   "execution_count": 7,
   "metadata": {},
   "outputs": [
    {
     "name": "stderr",
     "output_type": "stream",
     "text": [
      "Downloading...\n",
      "From: https://drive.google.com/uc?id=1HNXbrkozARbz4r8fdFbjvPw8R74n1oiY\n",
      "To: /root/eot_benchmark_data/gaussian_mixture_benchmark_data.zip\n",
      "100%|██████████| 75.3k/75.3k [00:00<00:00, 2.05MB/s]\n"
     ]
    }
   ],
   "source": [
    "torch.manual_seed(SEED); np.random.seed(SEED);\n",
    "X_sampler = get_guassian_mixture_benchmark_sampler(input_or_target=\"input\", dim=DIM, eps=EPS,\n",
    "                                           batch_size=BATCH_SIZE, device=\"cpu\", download=True)\n",
    "Y_sampler = get_guassian_mixture_benchmark_sampler(input_or_target=\"target\", dim=DIM, eps=EPS,\n",
    "                                          batch_size=BATCH_SIZE, device=\"cpu\", download=False)\n",
    "\n",
    "ground_truth_plan_sampler = get_guassian_mixture_benchmark_ground_truth_sampler(dim=DIM, eps=EPS,\n",
    "                                                                                batch_size=BATCH_SIZE, \n",
    "                                                                                device=\"cpu\",\n",
    "                                                                                download=False)"
   ]
  },
  {
   "cell_type": "code",
   "execution_count": 8,
   "metadata": {},
   "outputs": [
    {
     "data": {
      "text/plain": [
       "PCA(n_components=2)"
      ]
     },
     "execution_count": 8,
     "metadata": {},
     "output_type": "execute_result"
    }
   ],
   "source": [
    "pca = PCA(n_components=2)\n",
    "\n",
    "samples = X_sampler.sample(10000)\n",
    "samples = samples.cpu()\n",
    "\n",
    "target_samples = Y_sampler.sample(10000)\n",
    "target_samples = target_samples.cpu()\n",
    "\n",
    "pca.fit(torch.cat((samples, target_samples)))"
   ]
  },
  {
   "cell_type": "code",
   "execution_count": 9,
   "metadata": {},
   "outputs": [
    {
     "data": {
      "image/png": "[encoded data removed]",
      "text/plain": [
       "<Figure size 432x288 with 1 Axes>"
      ]
     },
     "metadata": {
      "needs_background": "light"
     },
     "output_type": "display_data"
    }
   ],
   "source": [
    "samples_pca = pca.transform(samples)\n",
    "\n",
    "plt.scatter(samples_pca[:, 0], samples_pca[:, 1])\n",
    "plt.xlim(-20, 20)\n",
    "plt.ylim(-20, 20)\n",
    "plt.grid()"
   ]
  },
  {
   "cell_type": "code",
   "execution_count": 10,
   "metadata": {},
   "outputs": [
    {
     "data": {
      "image/png": "[encoded data removed]",
      "text/plain": [
       "<Figure size 432x288 with 1 Axes>"
      ]
     },
     "metadata": {
      "needs_background": "light"
     },
     "output_type": "display_data"
    }
   ],
   "source": [
    "target_samples_pca = pca.transform(target_samples)\n",
    "plt.scatter(target_samples_pca[:, 0], target_samples_pca[:, 1])\n",
    "plt.xlim(-20, 20)\n",
    "plt.ylim(-20, 20)\n",
    "plt.grid()"
   ]
  },
  {
   "cell_type": "markdown",
   "metadata": {},
   "source": [
    "## 4. Model initialization"
   ]
  },
  {
   "cell_type": "code",
   "execution_count": 11,
   "metadata": {},
   "outputs": [],
   "source": [
    "class IdentityBaseline(nn.Module):\n",
    "    def __init__(self):\n",
    "        super().__init__()\n",
    "\n",
    "    def forward(self, x):\n",
    "        return x"
   ]
  },
  {
   "cell_type": "code",
   "execution_count": 12,
   "metadata": {},
   "outputs": [],
   "source": [
    "model = IdentityBaseline()"
   ]
  },
  {
   "cell_type": "markdown",
   "metadata": {},
   "source": [
    "## 5. Training"
   ]
  },
  {
   "cell_type": "code",
   "execution_count": 13,
   "metadata": {},
   "outputs": [
    {
     "name": "stderr",
     "output_type": "stream",
     "text": [
      "\u001b[34m\u001b[1mwandb\u001b[0m: Currently logged in as: \u001b[33mschrodinger_bridge\u001b[0m (use `wandb login --relogin` to force relogin)\n",
      "\u001b[34m\u001b[1mwandb\u001b[0m: wandb version 0.13.10 is available!  To upgrade, please run:\n",
      "\u001b[34m\u001b[1mwandb\u001b[0m:  $ pip install wandb --upgrade\n"
     ]
    },
    {
     "data": {
      "text/html": [
       "\n",
       "                Tracking run with wandb version 0.10.33<br/>\n",
       "                Syncing run <strong style=\"color:#cdcd00\">Gaussians_identity_baseline_EPSILON_1_DIM_16</strong> to <a href=\"https://wandb.ai\" target=\"_blank\">Weights & Biases</a> <a href=\"https://docs.wandb.com/integrations/jupyter.html\" target=\"_blank\">(Documentation)</a>.<br/>\n",
       "                Project page: <a href=\"https://wandb.ai/schrodinger_bridge/SchrodingerBridge\" target=\"_blank\">https://wandb.ai/schrodinger_bridge/SchrodingerBridge</a><br/>\n",
       "                Run page: <a href=\"https://wandb.ai/schrodinger_bridge/SchrodingerBridge/runs/an579nt3\" target=\"_blank\">https://wandb.ai/schrodinger_bridge/SchrodingerBridge/runs/an579nt3</a><br/>\n",
       "                Run data is saved locally in <code>/home/n.gushchin/EntropicOTBenchmark/notebooks/wandb/run-20230301_113413-an579nt3</code><br/><br/>\n",
       "            "
      ],
      "text/plain": [
       "<IPython.core.display.HTML object>"
      ]
     },
     "metadata": {},
     "output_type": "display_data"
    },
    {
     "data": {
      "text/html": [
       "<h1>Run(an579nt3)</h1><iframe src=\"https://wandb.ai/schrodinger_bridge/SchrodingerBridge/runs/an579nt3\" style=\"border:none;width:100%;height:400px\"></iframe>"
      ],
      "text/plain": [
       "<wandb.sdk.wandb_run.Run at 0x7f487b5ebf70>"
      ]
     },
     "execution_count": 13,
     "metadata": {},
     "output_type": "execute_result"
    }
   ],
   "source": [
    "wandb.init(name=EXP_NAME, config=config, project='SchrodingerBridge')"
   ]
  },
  {
   "cell_type": "code",
   "execution_count": null,
   "metadata": {},
   "outputs": [
    {
     "name": "stderr",
     "output_type": "stream",
     "text": [
      " 91%|█████████ | 1813/2000 [02:13<00:13, 14.24it/s]"
     ]
    }
   ],
   "source": [
    "torch.manual_seed(SEED); np.random.seed(SEED)\n",
    "\n",
    "for step in tqdm(range(CONTINUE + 1, MAX_STEPS)):\n",
    "    model.train()\n",
    "    \n",
    "    if step % METRICS_INTERVAL == 0:\n",
    "        model.eval()\n",
    "        # metrics\n",
    "        with torch.no_grad():\n",
    "            # bw-uvp\n",
    "            X = X_sampler.sample(100000)\n",
    "            Y = Y_sampler.sample(100000)\n",
    "            XN = model(X)\n",
    "            \n",
    "            X0_gt, XN_gt = ground_truth_plan_sampler.sample(100000)\n",
    "            X0_XN_gt = torch.cat((X0_gt, XN_gt), dim=1)\n",
    "            X0_XN = torch.cat((X, XN), dim=1)\n",
    "            \n",
    "            bw_uvp_target = compute_BW_UVP_by_gt_samples(XN.cpu().numpy(), Y.cpu().numpy())\n",
    "            bw_uvp_plan = compute_BW_UVP_by_gt_samples(X0_XN.cpu().numpy(), X0_XN_gt.cpu().numpy())\n",
    "            \n",
    "            # mmd\n",
    "            X = X_sampler.sample(10000)\n",
    "            Y = Y_sampler.sample(10000)\n",
    "            XN = model(X)\n",
    "            \n",
    "            X0_gt, XN_gt = ground_truth_plan_sampler.sample(10000)\n",
    "            X0_XN_gt = torch.cat((X0_gt, XN_gt), dim=1)\n",
    "            X0_XN = torch.cat((X, XN), dim=1)\n",
    "            \n",
    "            mmd_plan = calculate_gm_benchmark_normalized_mmd(X0_XN, X0_XN_gt, dim=DIM, eps=EPS)\n",
    "            mmd_target = calculate_gm_benchmark_normalized_mmd(XN, Y, dim=DIM, eps=EPS)\n",
    "            \n",
    "            wandb.log({f'BW-UVP_target' : bw_uvp_target}, step=step)\n",
    "            wandb.log({f'BW-UVP_plan' : bw_uvp_plan}, step=step)\n",
    "            wandb.log({f'MMD_target' : mmd_target}, step=step)\n",
    "            wandb.log({f'MMD_plan' : mmd_plan}, step=step)\n",
    "\n",
    "    gc.collect(); torch.cuda.empty_cache()"
   ]
  },
  {
   "cell_type": "code",
   "execution_count": null,
   "metadata": {},
   "outputs": [],
   "source": []
  },
  {
   "cell_type": "code",
   "execution_count": null,
   "metadata": {},
   "outputs": [],
   "source": []
  }
 ],
 "metadata": {
  "kernelspec": {
   "display_name": "Python 3",
   "language": "python",
   "name": "python3"
  },
  "language_info": {
   "codemirror_mode": {
    "name": "ipython",
    "version": 3
   },
   "file_extension": ".py",
   "mimetype": "text/x-python",
   "name": "python",
   "nbconvert_exporter": "python",
   "pygments_lexer": "ipython3",
   "version": "3.8.5"
  }
 },
 "nbformat": 4,
 "nbformat_minor": 4
}
