{
 "cells": [
  {
   "cell_type": "code",
   "execution_count": 1,
   "id": "f0c0e9f8",
   "metadata": {},
   "outputs": [],
   "source": [
    "import os, sys\n",
    "sys.path.append(\"..\")\n",
    "\n",
    "import torch\n",
    "from torch.utils.data import DataLoader\n",
    "\n",
    "from benchmark.rotated_gaussian_benchmark import RotatedGaussiansBenchmark\n",
    "from benchmark.metrics import compute_BW_UVP_with_gt_stats, compute_BW_UVP_by_gt_samples\n",
    "from src.distributions import LoaderSampler"
   ]
  },
  {
   "cell_type": "markdown",
   "id": "31bfeb0f",
   "metadata": {},
   "source": [
    "### Benchmark loading"
   ]
  },
  {
   "cell_type": "code",
   "execution_count": 2,
   "id": "6025f8a3",
   "metadata": {},
   "outputs": [
    {
     "name": "stderr",
     "output_type": "stream",
     "text": [
      "Downloading...\n",
      "From: https://drive.google.com/uc?id=1ZOUXFdkssPbGJb1jPhVK1dh8lkwu0Sx0\n",
      "To: /home/n.gushchin/EntropicOTBenchmark/benchmark/benchmark_data/rotated_gaussians.zip\n",
      "100%|██████████| 172k/172k [00:00<00:00, 351kB/s]\n"
     ]
    }
   ],
   "source": [
    "device = \"cpu\"\n",
    "dim = 128\n",
    "eps = 10\n",
    "batch_size = 100000\n",
    "\n",
    "benchmark = RotatedGaussiansBenchmark(dim=dim, eps=eps, benchmark_data_path=\"../benchmark/benchmark_data\", download=True)\n",
    "\n",
    "X_dataset = benchmark.X_dataset\n",
    "Y_dataset = benchmark.Y_dataset\n",
    "\n",
    "# stats for bw-uvp metric calculation\n",
    "mu_X, mu_Y = benchmark.mu_X, benchmark.mu_Y\n",
    "covariance_X, covariance_Y = benchmark.covariance_X, benchmark.covariance_Y\n",
    "\n",
    "optimal_plan_mu, optimal_plan_covariance = benchmark.optimal_plan_mu, benchmark.optimal_plan_covariance\n",
    "\n",
    "X_sampler = LoaderSampler(DataLoader(X_dataset, shuffle=False, num_workers=8, batch_size=batch_size), device)\n",
    "Y_sampler = LoaderSampler(DataLoader(Y_dataset, shuffle=False, num_workers=8, batch_size=batch_size), device)"
   ]
  },
  {
   "cell_type": "markdown",
   "id": "3549c62c",
   "metadata": {},
   "source": [
    "### Examples of computing bw-uvp metric"
   ]
  },
  {
   "cell_type": "markdown",
   "id": "d7f7ff34",
   "metadata": {},
   "source": [
    "BW-UVP between samples from source distribution and itself by using ground truth stats"
   ]
  },
  {
   "cell_type": "code",
   "execution_count": 3,
   "id": "500dd779",
   "metadata": {},
   "outputs": [
    {
     "data": {
      "text/plain": [
       "0.025941037481035545"
      ]
     },
     "execution_count": 3,
     "metadata": {},
     "output_type": "execute_result"
    }
   ],
   "source": [
    "compute_BW_UVP_with_gt_stats(\n",
    "    X_sampler.sample(batch_size).detach().cpu().numpy(),\n",
    "    true_samples_mu=mu_X,\n",
    "    true_samples_covariance=covariance_X\n",
    ")"
   ]
  },
  {
   "cell_type": "markdown",
   "id": "9c721b97",
   "metadata": {},
   "source": [
    "BW-UVP between samples from source distribution and target distirbution by using ground truth stats"
   ]
  },
  {
   "cell_type": "code",
   "execution_count": 4,
   "id": "9ce2bcb0",
   "metadata": {},
   "outputs": [
    {
     "data": {
      "text/plain": [
       "26.141300511872405"
      ]
     },
     "execution_count": 4,
     "metadata": {},
     "output_type": "execute_result"
    }
   ],
   "source": [
    "compute_BW_UVP_with_gt_stats(\n",
    "    X_sampler.sample(batch_size).detach().cpu().numpy(),\n",
    "    true_samples_mu=mu_Y,\n",
    "    true_samples_covariance=covariance_Y\n",
    ")"
   ]
  },
  {
   "cell_type": "markdown",
   "id": "5a91330b",
   "metadata": {},
   "source": [
    "BW-UVP between samples from source distribution and itself distirbution by using ground truth samples"
   ]
  },
  {
   "cell_type": "code",
   "execution_count": 5,
   "id": "1e69fb02",
   "metadata": {},
   "outputs": [
    {
     "data": {
      "text/plain": [
       "0.05361340197138616"
      ]
     },
     "execution_count": 5,
     "metadata": {},
     "output_type": "execute_result"
    }
   ],
   "source": [
    "compute_BW_UVP_by_gt_samples(\n",
    "    X_sampler.sample(batch_size).detach().cpu().numpy(),\n",
    "    X_sampler.sample(batch_size).detach().cpu().numpy(),\n",
    ")"
   ]
  },
  {
   "cell_type": "markdown",
   "id": "de00182c",
   "metadata": {},
   "source": [
    "BW-UVP between samples from source distribution and target distirbution by using ground truth samples"
   ]
  },
  {
   "cell_type": "code",
   "execution_count": 6,
   "id": "2ac3672b",
   "metadata": {},
   "outputs": [
    {
     "data": {
      "text/plain": [
       "26.17256546064761"
      ]
     },
     "execution_count": 6,
     "metadata": {},
     "output_type": "execute_result"
    }
   ],
   "source": [
    "compute_BW_UVP_by_gt_samples(\n",
    "    X_sampler.sample(batch_size).detach().cpu().numpy(),\n",
    "    Y_sampler.sample(batch_size).detach().cpu().numpy(),\n",
    ")"
   ]
  },
  {
   "cell_type": "markdown",
   "id": "1ce8642d",
   "metadata": {},
   "source": [
    "BW-UVP between trivial plan samples and optimal plan by using ground truth stats"
   ]
  },
  {
   "cell_type": "code",
   "execution_count": 7,
   "id": "e326fac0",
   "metadata": {},
   "outputs": [
    {
     "data": {
      "text/plain": [
       "0.6297491445837018"
      ]
     },
     "execution_count": 7,
     "metadata": {},
     "output_type": "execute_result"
    }
   ],
   "source": [
    "X_Y = torch.cat((X_sampler.sample(batch_size), Y_sampler.sample(batch_size)), dim=1).detach().cpu().numpy()\n",
    "\n",
    "compute_BW_UVP_with_gt_stats(\n",
    "    X_Y,\n",
    "    optimal_plan_mu,\n",
    "    optimal_plan_covariance\n",
    ")"
   ]
  },
  {
   "cell_type": "code",
   "execution_count": null,
   "id": "a284702d",
   "metadata": {},
   "outputs": [],
   "source": []
  }
 ],
 "metadata": {
  "kernelspec": {
   "display_name": "Python 3",
   "language": "python",
   "name": "python3"
  },
  "language_info": {
   "codemirror_mode": {
    "name": "ipython",
    "version": 3
   },
   "file_extension": ".py",
   "mimetype": "text/x-python",
   "name": "python",
   "nbconvert_exporter": "python",
   "pygments_lexer": "ipython3",
   "version": "3.8.5"
  }
 },
 "nbformat": 4,
 "nbformat_minor": 5
}
