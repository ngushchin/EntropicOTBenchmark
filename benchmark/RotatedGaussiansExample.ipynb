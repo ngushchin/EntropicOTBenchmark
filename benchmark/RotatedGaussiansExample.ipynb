{
 "cells": [
  {
   "cell_type": "code",
   "execution_count": 1,
   "id": "1578c997",
   "metadata": {},
   "outputs": [],
   "source": [
    "from eot_benchmark.rotated_gaussian_benchmark import (get_rotated_gaussian_dataset,\n",
    "                                                  get_rotated_gaussian_sampler,\n",
    "                                                  get_rotated_gaussian_benchmark_stats)\n",
    "from eot_benchmark.metrics import compute_BW_UVP_with_gt_stats"
   ]
  },
  {
   "cell_type": "code",
   "execution_count": 2,
   "id": "92e155f9",
   "metadata": {},
   "outputs": [],
   "source": [
    "DIM = 2\n",
    "EPS = 1\n",
    "BATCHS_SIZE = 64"
   ]
  },
  {
   "cell_type": "markdown",
   "id": "7a17f97c",
   "metadata": {},
   "source": [
    "### Dataset and samplers loading"
   ]
  },
  {
   "cell_type": "markdown",
   "id": "6342ab26",
   "metadata": {},
   "source": [
    "Datasets"
   ]
  },
  {
   "cell_type": "code",
   "execution_count": 3,
   "id": "eeda28e3",
   "metadata": {},
   "outputs": [
    {
     "name": "stderr",
     "output_type": "stream",
     "text": [
      "Downloading...\n",
      "From: https://drive.google.com/uc?id=1ZOUXFdkssPbGJb1jPhVK1dh8lkwu0Sx0\n",
      "To: /root/eot_benchmark_data/rotated_gaussians.zip\n",
      "100%|██████████| 172k/172k [00:00<00:00, 2.91MB/s]\n"
     ]
    }
   ],
   "source": [
    "X_dataset = get_rotated_gaussian_dataset(\"input\", DIM, download=True)\n",
    "Y_dataset = get_rotated_gaussian_dataset(\"target\", DIM)"
   ]
  },
  {
   "cell_type": "markdown",
   "id": "52c8471f",
   "metadata": {},
   "source": [
    "Classic samplers"
   ]
  },
  {
   "cell_type": "code",
   "execution_count": 4,
   "id": "0206c2f7",
   "metadata": {},
   "outputs": [],
   "source": [
    "X_sampler = get_rotated_gaussian_sampler(\"input\", DIM, with_density=False, batch_size=BATCHS_SIZE)\n",
    "Y_sampler = get_rotated_gaussian_sampler(\"target\", DIM, with_density=False, batch_size=BATCHS_SIZE)"
   ]
  },
  {
   "cell_type": "markdown",
   "id": "fe1d3d49",
   "metadata": {},
   "source": [
    "Special samplers with density of normal distirbutions"
   ]
  },
  {
   "cell_type": "code",
   "execution_count": 5,
   "id": "c6a16e31",
   "metadata": {},
   "outputs": [],
   "source": [
    "X_sampler_dens = get_rotated_gaussian_sampler(\"input\", DIM, with_density=True, batch_size=BATCHS_SIZE)\n",
    "Y_sampler_dens = get_rotated_gaussian_sampler(\"target\", DIM, with_density=True, batch_size=BATCHS_SIZE)"
   ]
  },
  {
   "cell_type": "markdown",
   "id": "16043a90",
   "metadata": {},
   "source": [
    "Example of log_prob calculation"
   ]
  },
  {
   "cell_type": "code",
   "execution_count": 6,
   "id": "1395f2c4",
   "metadata": {},
   "outputs": [
    {
     "data": {
      "text/plain": [
       "tensor([-1.8721, -2.3274, -2.9351, -1.8891, -2.3024, -2.7671, -2.1308, -1.9821,\n",
       "        -3.5400, -2.3141, -7.0147, -4.8959, -2.7954, -2.2180, -2.5280, -2.6299,\n",
       "        -2.6878, -4.3527, -2.2977, -2.8890, -2.6557, -1.9451, -2.9417, -3.6602,\n",
       "        -2.2504, -1.9425, -2.6905, -3.6320, -4.0760, -2.2825, -2.1030, -2.4588,\n",
       "        -1.9678, -1.9970, -4.4371, -3.8858, -2.3576, -3.4361, -3.2169, -2.0617,\n",
       "        -1.8653, -2.8836, -2.1405, -2.7701, -2.0720, -3.5964, -3.0009, -2.2045,\n",
       "        -4.0346, -2.9771, -2.2597, -5.1881, -2.0774, -3.5182, -1.8467, -2.3799,\n",
       "        -2.3051, -2.7190, -2.5354, -3.6562, -3.3410, -2.6348, -1.9170, -2.2862])"
      ]
     },
     "execution_count": 6,
     "metadata": {},
     "output_type": "execute_result"
    }
   ],
   "source": [
    "X_sampler_dens.log_prob(X_sampler_dens.sample())"
   ]
  },
  {
   "cell_type": "markdown",
   "id": "0e217fc4",
   "metadata": {},
   "source": [
    "Getting stats for BW-UVP calculation"
   ]
  },
  {
   "cell_type": "code",
   "execution_count": 7,
   "id": "bbc0a751",
   "metadata": {},
   "outputs": [],
   "source": [
    "stats = get_rotated_gaussian_benchmark_stats(DIM, EPS)"
   ]
  },
  {
   "cell_type": "code",
   "execution_count": 8,
   "id": "1d7563ee",
   "metadata": {},
   "outputs": [],
   "source": [
    "mu_X, mu_Y, covariance_X, covariance_Y, optimal_plan_mu, optimal_plan_covariance = stats"
   ]
  },
  {
   "cell_type": "markdown",
   "id": "df9e36c0",
   "metadata": {},
   "source": [
    "Example of BW-UVP calculation"
   ]
  },
  {
   "cell_type": "code",
   "execution_count": 9,
   "id": "0bf978fe",
   "metadata": {},
   "outputs": [
    {
     "data": {
      "text/plain": [
       "1.9662121075832355"
      ]
     },
     "execution_count": 9,
     "metadata": {},
     "output_type": "execute_result"
    }
   ],
   "source": [
    "compute_BW_UVP_with_gt_stats(\n",
    "    X_sampler.sample(BATCHS_SIZE).detach().cpu().numpy(),\n",
    "    true_samples_mu=mu_X,\n",
    "    true_samples_covariance=covariance_X\n",
    ")"
   ]
  },
  {
   "cell_type": "code",
   "execution_count": null,
   "id": "dc0ab5fc",
   "metadata": {},
   "outputs": [],
   "source": []
  }
 ],
 "metadata": {
  "kernelspec": {
   "display_name": "Python 3",
   "language": "python",
   "name": "python3"
  },
  "language_info": {
   "codemirror_mode": {
    "name": "ipython",
    "version": 3
   },
   "file_extension": ".py",
   "mimetype": "text/x-python",
   "name": "python",
   "nbconvert_exporter": "python",
   "pygments_lexer": "ipython3",
   "version": "3.8.5"
  }
 },
 "nbformat": 4,
 "nbformat_minor": 5
}
