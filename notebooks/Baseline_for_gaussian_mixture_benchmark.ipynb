{
 "cells": [
  {
   "cell_type": "markdown",
   "metadata": {},
   "source": [
    "# Code for gaussian benchmark baselines"
   ]
  },
  {
   "cell_type": "markdown",
   "metadata": {},
   "source": [
    "## 1. Imports"
   ]
  },
  {
   "cell_type": "code",
   "execution_count": 1,
   "metadata": {},
   "outputs": [],
   "source": [
    "from eot_benchmark.gaussian_mixture_benchmark import (\n",
    "    get_guassian_mixture_benchmark_sampler,\n",
    "    get_guassian_mixture_benchmark_ground_truth_sampler, \n",
    ")\n",
    "\n",
    "from eot_benchmark.metrics import (\n",
    "    compute_BW_UVP_by_gt_samples, calculate_gm_mmd\n",
    ")"
   ]
  },
  {
   "cell_type": "code",
   "execution_count": 2,
   "metadata": {},
   "outputs": [],
   "source": [
    "import math\n",
    "import gc\n",
    "import wandb\n",
    "import numpy as np\n",
    "\n",
    "from matplotlib import pyplot as plt\n",
    "\n",
    "from tqdm import tqdm\n",
    "\n",
    "import warnings\n",
    "warnings.filterwarnings('ignore')\n",
    "from IPython.display import clear_output\n",
    "\n",
    "import os, sys\n",
    "sys.path.append(\"..\")\n",
    "\n",
    "import torch\n",
    "from torch import nn\n",
    "\n",
    "from sklearn.metrics import pairwise_distances\n",
    "from sklearn.decomposition import PCA"
   ]
  },
  {
   "cell_type": "code",
   "execution_count": 3,
   "metadata": {},
   "outputs": [],
   "source": [
    "gc.collect(); torch.cuda.empty_cache()"
   ]
  },
  {
   "cell_type": "markdown",
   "metadata": {},
   "source": [
    "## 2. Config"
   ]
  },
  {
   "cell_type": "code",
   "execution_count": 4,
   "metadata": {},
   "outputs": [],
   "source": [
    "DIM = 2\n",
    "EPS = 10\n",
    "assert DIM > 1\n",
    "\n",
    "L1 = 1e-10\n",
    "GPU_DEVICE = 1\n",
    "EPSILON = EPS\n",
    "BATCH_SIZE = 32\n",
    "\n",
    "SEED = 42\n",
    "MAX_STEPS = 501\n",
    "METRICS_INTERVAL = 500\n",
    "CONTINUE = -1\n",
    "\n",
    "# identity, independet, linear\n",
    "BASELINE_TYPE = \"identity\""
   ]
  },
  {
   "cell_type": "code",
   "execution_count": 5,
   "metadata": {},
   "outputs": [],
   "source": [
    "EXP_NAME = f'Gaussians_{BASELINE_TYPE}_baseline_EPSILON_{EPSILON}_DIM_{DIM}'\n",
    "\n",
    "config = dict(\n",
    "    DIM=DIM,\n",
    "    EPSILON=EPSILON,\n",
    "    SEED=SEED,\n",
    "    MAX_STEPS=MAX_STEPS,\n",
    ")"
   ]
  },
  {
   "cell_type": "code",
   "execution_count": 6,
   "metadata": {},
   "outputs": [],
   "source": [
    "# assert torch.cuda.is_available()\n",
    "# torch.cuda.set_device(GPU_DEVICE)"
   ]
  },
  {
   "cell_type": "markdown",
   "metadata": {},
   "source": [
    "## 3. Initialize Benchmark"
   ]
  },
  {
   "cell_type": "code",
   "execution_count": 7,
   "metadata": {},
   "outputs": [
    {
     "name": "stderr",
     "output_type": "stream",
     "text": [
      "Downloading...\n",
      "From: https://drive.google.com/uc?id=1HNXbrkozARbz4r8fdFbjvPw8R74n1oiY\n",
      "To: /root/eot_benchmark_data/gaussian_mixture_benchmark_data.zip\n",
      "100%|██████████| 146k/146k [00:00<00:00, 2.08MB/s]\n"
     ]
    }
   ],
   "source": [
    "torch.manual_seed(SEED); np.random.seed(SEED);\n",
    "X_sampler = get_guassian_mixture_benchmark_sampler(input_or_target=\"input\", dim=DIM, eps=EPS,\n",
    "                                           batch_size=BATCH_SIZE, device=\"cpu\", download=True)\n",
    "Y_sampler = get_guassian_mixture_benchmark_sampler(input_or_target=\"target\", dim=DIM, eps=EPS,\n",
    "                                          batch_size=BATCH_SIZE, device=\"cpu\", download=False)\n",
    "\n",
    "ground_truth_plan_sampler = get_guassian_mixture_benchmark_ground_truth_sampler(dim=DIM, eps=EPS,\n",
    "                                                                                batch_size=BATCH_SIZE, \n",
    "                                                                                device=\"cpu\",\n",
    "                                                                                download=False)"
   ]
  },
  {
   "cell_type": "code",
   "execution_count": 8,
   "metadata": {},
   "outputs": [
    {
     "data": {
      "text/plain": [
       "PCA(n_components=2)"
      ]
     },
     "execution_count": 8,
     "metadata": {},
     "output_type": "execute_result"
    }
   ],
   "source": [
    "pca = PCA(n_components=2)\n",
    "\n",
    "samples = X_sampler.sample(10000)\n",
    "samples = samples.cpu()\n",
    "\n",
    "target_samples = Y_sampler.sample(10000)\n",
    "target_samples = target_samples.cpu()\n",
    "\n",
    "# pca.fit(torch.cat((samples, target_samples)))\n",
    "pca.fit(target_samples)"
   ]
  },
  {
   "cell_type": "code",
   "execution_count": 9,
   "metadata": {},
   "outputs": [
    {
     "data": {
      "image/png": "[encoded data removed]",
      "text/plain": [
       "<Figure size 432x288 with 1 Axes>"
      ]
     },
     "metadata": {
      "needs_background": "light"
     },
     "output_type": "display_data"
    }
   ],
   "source": [
    "samples_pca = pca.transform(samples)\n",
    "\n",
    "plt.scatter(samples_pca[:, 0], samples_pca[:, 1])\n",
    "plt.xlim(-20, 20)\n",
    "plt.ylim(-20, 20)\n",
    "plt.grid()"
   ]
  },
  {
   "cell_type": "code",
   "execution_count": 10,
   "metadata": {},
   "outputs": [
    {
     "data": {
      "image/png": "[encoded data removed]",
      "text/plain": [
       "<Figure size 432x288 with 1 Axes>"
      ]
     },
     "metadata": {
      "needs_background": "light"
     },
     "output_type": "display_data"
    }
   ],
   "source": [
    "target_samples_pca = pca.transform(target_samples)\n",
    "plt.scatter(target_samples_pca[:, 0], target_samples_pca[:, 1])\n",
    "plt.xlim(-20, 20)\n",
    "plt.ylim(-20, 20)\n",
    "plt.grid()"
   ]
  },
  {
   "cell_type": "markdown",
   "metadata": {},
   "source": [
    "## 4. Model initialization"
   ]
  },
  {
   "cell_type": "code",
   "execution_count": 11,
   "metadata": {},
   "outputs": [],
   "source": [
    "class IdentityBaseline(nn.Module):\n",
    "    def __init__(self):\n",
    "        super().__init__()\n",
    "\n",
    "    def forward(self, x):\n",
    "        return x\n",
    "    \n",
    "\n",
    "class IndependentBaseline(nn.Module):\n",
    "    def __init__(self, target_sampler):\n",
    "        super().__init__()\n",
    "        self.target_sampler = target_sampler\n",
    "\n",
    "    def forward(self, x):\n",
    "        return self.target_sampler.sample(x.shape[0]).to(x.device)\n",
    "    \n",
    "\n",
    "def symmetrize(X):\n",
    "    return np.real((X + X.T) / 2)\n",
    "\n",
    "def get_D_sigma(covariance_0, covariance_T, epsilon):\n",
    "    shape = covariance_0.shape[0]\n",
    "    \n",
    "    covariance_0_sqrt = symmetrize(sqrtm(covariance_0))\n",
    "    return symmetrize(sqrtm(4*covariance_0_sqrt@covariance_T@covariance_0_sqrt + (epsilon**2)*np.eye(shape)))\n",
    "\n",
    "def get_C_sigma(covariance_0, D_sigma, epsilon):\n",
    "    shape = covariance_0.shape[0]\n",
    "    \n",
    "    covariance_0_sqrt = symmetrize(sqrtm(covariance_0))\n",
    "    covariance_0_sqrt_inv = inv(covariance_0_sqrt)\n",
    "    \n",
    "    return 0.5*(covariance_0_sqrt@D_sigma@covariance_0_sqrt_inv - epsilon*np.eye(shape))\n",
    "    \n",
    "    \n",
    "class LinearBaseline(nn.Module):\n",
    "    def __init__(self, original_sampler, target_sampler, epsilon, device=\"cpu\"):\n",
    "        super().__init__()\n",
    "        original_samples = original_sampler.sample(100*1000).numpy()\n",
    "        original_samples_covariance = np.cov(original_samples.T)\n",
    "        original_samples_mu = original_samples.mean(axis=0)\n",
    "        \n",
    "        target_samples = target_sampler.sample(100*1000).numpy()\n",
    "        target_samples_covariance = np.cov(target_samples.T)\n",
    "        target_samples_mu = target_samples.mean(axis=0)\n",
    "        \n",
    "        D_sigma = get_D_sigma(original_samples_covariance, target_samples_covariance, epsilon)\n",
    "        C_sigma = get_C_sigma(original_samples_covariance, D_sigma, epsilon)\n",
    "        \n",
    "        original_samples_covariance_inv = inv(original_samples_covariance)\n",
    "        \n",
    "        self.mu_0 = torch.tensor(original_samples_mu).to(device)\n",
    "        self.mu_1 = torch.tensor(target_samples_mu).to(device)\n",
    "        \n",
    "        self.covariance_0 = torch.tensor(original_samples_covariance).to(device)\n",
    "        self.covariance_0_inv = torch.tensor(original_samples_covariance_inv).to(device)\n",
    "        self.covariance_1 = torch.tensor(target_samples_covariance).to(device)\n",
    "        \n",
    "        self.C_sigma = torch.tensor(C_sigma).to(device)\n",
    "        \n",
    "        self.weight =  self.C_sigma.T@self.covariance_0_inv\n",
    "        self.bias = self.mu_1[:, None] - self.weight@self.mu_0[:, None]\n",
    "        self.final_covariance = self.covariance_1 - self.C_sigma.T@self.covariance_0_inv@self.C_sigma\n",
    "        \n",
    "        \n",
    "        \n",
    "#         self.original_sigma = \n",
    "#         self.target_mu = \n",
    "#         self.target_sigma = \n",
    "\n",
    "    def forward(self, x):\n",
    "        randn = torch.randn_like(x).to(device)\n",
    "        \n",
    "        return \n",
    "\n",
    "if BASELINE_TYPE == \"identity\":\n",
    "    model = IdentityBaseline()\n",
    "elif BASELINE_TYPE == \"independet\":\n",
    "    model = IndependentBaseline(Y_sampler)"
   ]
  },
  {
   "cell_type": "code",
   "execution_count": 12,
   "metadata": {},
   "outputs": [],
   "source": [
    "X, Y = ground_truth_plan_sampler.sample(10000)\n",
    "X_indp = X_sampler.sample(10000)\n",
    "Y_indp = Y_sampler.sample(10000)"
   ]
  },
  {
   "cell_type": "code",
   "execution_count": 13,
   "metadata": {},
   "outputs": [],
   "source": [
    "# mmd = calculate_gm_mmd_dim_normalized(torch.cat((X_indp, Y_indp), dim=-1),\n",
    "#                                       torch.cat((X, Y), dim=-1),\n",
    "#                                       dim=DIM, eps=EPS)\n",
    "# mmd"
   ]
  },
  {
   "cell_type": "code",
   "execution_count": 14,
   "metadata": {},
   "outputs": [],
   "source": [
    "# mmd = calculate_gm_mmd_dim_normalized(torch.cat((X, Y), dim=-1),\n",
    "#                                       torch.cat((X, Y), dim=-1),\n",
    "#                                       dim=DIM, eps=EPS)\n",
    "# mmd"
   ]
  },
  {
   "cell_type": "code",
   "execution_count": 15,
   "metadata": {},
   "outputs": [],
   "source": [
    "# # mmd_plan_distance_kernel = calculate_gm_mmd_distance_kernel(torch.cat((X_input, predict), dim=-1),\n",
    "#                                                               torch.cat((X, Y), dim=-1),\n",
    "#                                                               dim=DIM, eps=EPS)\n",
    "# mmd_plan_distance_kernel"
   ]
  },
  {
   "cell_type": "markdown",
   "metadata": {},
   "source": [
    "## 5. Training"
   ]
  },
  {
   "cell_type": "code",
   "execution_count": 16,
   "metadata": {},
   "outputs": [
    {
     "name": "stderr",
     "output_type": "stream",
     "text": [
      "\u001b[34m\u001b[1mwandb\u001b[0m: Currently logged in as: \u001b[33mschrodinger_bridge\u001b[0m (use `wandb login --relogin` to force relogin)\n",
      "\u001b[34m\u001b[1mwandb\u001b[0m: wandb version 0.14.0 is available!  To upgrade, please run:\n",
      "\u001b[34m\u001b[1mwandb\u001b[0m:  $ pip install wandb --upgrade\n"
     ]
    },
    {
     "data": {
      "text/html": [
       "\n",
       "                Tracking run with wandb version 0.10.33<br/>\n",
       "                Syncing run <strong style=\"color:#cdcd00\">Gaussians_identity_baseline_EPSILON_10_DIM_2</strong> to <a href=\"https://wandb.ai\" target=\"_blank\">Weights & Biases</a> <a href=\"https://docs.wandb.com/integrations/jupyter.html\" target=\"_blank\">(Documentation)</a>.<br/>\n",
       "                Project page: <a href=\"https://wandb.ai/schrodinger_bridge/SchrodingerBridge\" target=\"_blank\">https://wandb.ai/schrodinger_bridge/SchrodingerBridge</a><br/>\n",
       "                Run page: <a href=\"https://wandb.ai/schrodinger_bridge/SchrodingerBridge/runs/3ere2al2\" target=\"_blank\">https://wandb.ai/schrodinger_bridge/SchrodingerBridge/runs/3ere2al2</a><br/>\n",
       "                Run data is saved locally in <code>/home/n.gushchin/EntropicOTBenchmark/notebooks/wandb/run-20230404_141342-3ere2al2</code><br/><br/>\n",
       "            "
      ],
      "text/plain": [
       "<IPython.core.display.HTML object>"
      ]
     },
     "metadata": {},
     "output_type": "display_data"
    },
    {
     "data": {
      "text/html": [
       "<h1>Run(3ere2al2)</h1><iframe src=\"https://wandb.ai/schrodinger_bridge/SchrodingerBridge/runs/3ere2al2\" style=\"border:none;width:100%;height:400px\"></iframe>"
      ],
      "text/plain": [
       "<wandb.sdk.wandb_run.Run at 0x7eff6be52b80>"
      ]
     },
     "execution_count": 16,
     "metadata": {},
     "output_type": "execute_result"
    }
   ],
   "source": [
    "wandb.init(name=EXP_NAME, config=config, project='SchrodingerBridge')"
   ]
  },
  {
   "cell_type": "code",
   "execution_count": 17,
   "metadata": {},
   "outputs": [
    {
     "name": "stderr",
     "output_type": "stream",
     "text": [
      "100%|██████████| 501/501 [00:52<00:00,  9.51it/s]\n"
     ]
    }
   ],
   "source": [
    "torch.manual_seed(SEED); np.random.seed(SEED)\n",
    "\n",
    "for step in tqdm(range(CONTINUE + 1, MAX_STEPS)):\n",
    "    model.train()\n",
    "    \n",
    "    if step % METRICS_INTERVAL == 0:\n",
    "        model.eval()\n",
    "        # metrics\n",
    "        with torch.no_grad():\n",
    "            # bw-uvp\n",
    "            X = X_sampler.sample(100000)\n",
    "            Y = Y_sampler.sample(100000)\n",
    "            XN = model(X)\n",
    "            \n",
    "            X0_gt, XN_gt = ground_truth_plan_sampler.sample(100000)\n",
    "            X0_XN_gt = torch.cat((X0_gt, XN_gt), dim=1)\n",
    "            X0_XN = torch.cat((X, XN), dim=1)\n",
    "            \n",
    "            bw_uvp_target = compute_BW_UVP_by_gt_samples(XN.cpu().numpy(), Y.cpu().numpy())\n",
    "            bw_uvp_plan = compute_BW_UVP_by_gt_samples(X0_XN.cpu().numpy(), X0_XN_gt.cpu().numpy())\n",
    "            \n",
    "            # mmd\n",
    "            X = X_sampler.sample(10000)\n",
    "            Y = Y_sampler.sample(10000)\n",
    "            XN = model(X)\n",
    "            \n",
    "            X0_gt, XN_gt = ground_truth_plan_sampler.sample(10000)\n",
    "            X0_XN_gt = torch.cat((X0_gt, XN_gt), dim=1)\n",
    "            X0_XN = torch.cat((X, XN), dim=1)\n",
    "            \n",
    "#             mmd_plan = calculate_gm_mmd(X0_XN, X0_XN_gt, dim=DIM, eps=EPS)\n",
    "#             mmd_plan_dim_normalized = calculate_gm_mmd_dim_normalized(X0_XN, X0_XN_gt, dim=DIM, eps=EPS)\n",
    "#             mmd_plan_distance_kernel = calculate_gm_mmd_distance_kernel(X0_XN, X0_XN_gt, dim=DIM, eps=EPS)\n",
    "            \n",
    "#             mmd_target = calculate_gm_mmd(XN, Y, dim=DIM, eps=EPS)\n",
    "#             mmd_target_dim_normalized = calculate_gm_mmd_dim_normalized(XN, Y, dim=DIM, eps=EPS)\n",
    "#             mmd_target_distance_kernel = calculate_gm_mmd_distance_kernel(XN, Y, dim=DIM, eps=EPS)\n",
    "\n",
    "            mmd_plan = calculate_gm_mmd(X0_XN, X0_XN_gt, dim=DIM, eps=EPS,\n",
    "                                        normalization_type=\"indep_plan_rbf_kernel\")\n",
    "            mmd_plan_dim_normalized = calculate_gm_mmd(X0_XN, X0_XN_gt, dim=DIM, eps=EPS,\n",
    "                                                       normalization_type=\"indep_plan_rbf_kernel_dim_norm\")\n",
    "            mmd_plan_distance_kernel = calculate_gm_mmd(X0_XN, X0_XN_gt, dim=DIM, eps=EPS,\n",
    "                                                        normalization_type=\"indep_plan_rbf_distance_kernel\")\n",
    "            \n",
    "            mmd_target = calculate_gm_mmd(XN, Y, dim=DIM, eps=EPS, normalization_type=\"identity_rbf_kernel\")\n",
    "            mmd_target_dim_normalized = calculate_gm_mmd(XN, Y, dim=DIM, eps=EPS,\n",
    "                                                         normalization_type=\"indentity_rbf_kernel_norm\")\n",
    "            mmd_target_distance_kernel = calculate_gm_mmd(XN, Y, dim=DIM, eps=EPS, \n",
    "                                                          normalization_type=\"identity_distance_kernel\")\n",
    "            \n",
    "            wandb.log({f'BW-UVP_target' : bw_uvp_target}, step=step)\n",
    "            wandb.log({f'BW-UVP_plan' : bw_uvp_plan}, step=step)\n",
    "            \n",
    "            wandb.log({f'MMD_plan' : mmd_plan}, step=step)\n",
    "            wandb.log({f'MMD_plan_dim_normalized' : mmd_plan_dim_normalized}, step=step)\n",
    "            wandb.log({f'MMD_plan_distance_kernel' : mmd_plan_distance_kernel}, step=step)\n",
    "            \n",
    "            wandb.log({f'MMD_target' : mmd_target}, step=step)\n",
    "            wandb.log({f'MMD_target_dim_normalized' : mmd_target_dim_normalized}, step=step)\n",
    "            wandb.log({f'MMD_target_distance_kernel' : mmd_target_distance_kernel}, step=step)\n",
    "\n",
    "    gc.collect(); torch.cuda.empty_cache()"
   ]
  },
  {
   "cell_type": "code",
   "execution_count": null,
   "metadata": {},
   "outputs": [],
   "source": []
  },
  {
   "cell_type": "code",
   "execution_count": null,
   "metadata": {},
   "outputs": [],
   "source": []
  }
 ],
 "metadata": {
  "kernelspec": {
   "display_name": "Python 3",
   "language": "python",
   "name": "python3"
  },
  "language_info": {
   "codemirror_mode": {
    "name": "ipython",
    "version": 3
   },
   "file_extension": ".py",
   "mimetype": "text/x-python",
   "name": "python",
   "nbconvert_exporter": "python",
   "pygments_lexer": "ipython3",
   "version": "3.8.5"
  }
 },
 "nbformat": 4,
 "nbformat_minor": 4
}
