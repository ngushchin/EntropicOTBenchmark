{
 "cells": [
  {
   "cell_type": "code",
   "execution_count": 7,
   "id": "227d7bc7",
   "metadata": {},
   "outputs": [],
   "source": [
    "from benchmark.rotated_gaussian_benchmark import (get_rotated_gaussian_dataset,\n",
    "                                                  get_rotated_gaussian_sampler,\n",
    "                                                  get_rotated_gaussian_benchmark_stats)\n",
    "\n",
    "from benchmark.metrics import compute_BW_UVP_with_gt_stats"
   ]
  },
  {
   "cell_type": "code",
   "execution_count": 2,
   "id": "dec2a7ea",
   "metadata": {},
   "outputs": [],
   "source": [
    "DIM = 2\n",
    "EPS = 1\n",
    "BATCHS_SIZE = 64\n",
    "BENCHMARK_DATA_PATH = \"benchmark/benchmark_data/\""
   ]
  },
  {
   "cell_type": "code",
   "execution_count": 3,
   "id": "ad2daca3",
   "metadata": {},
   "outputs": [
    {
     "name": "stderr",
     "output_type": "stream",
     "text": [
      "Downloading...\n",
      "From: https://drive.google.com/uc?id=1ZOUXFdkssPbGJb1jPhVK1dh8lkwu0Sx0\n",
      "To: /home/n.gushchin/EntropicOTBenchmark/benchmark/benchmark_data/rotated_gaussians.zip\n",
      "100%|██████████| 172k/172k [00:01<00:00, 91.1kB/s]\n"
     ]
    }
   ],
   "source": [
    "X_dataset = get_rotated_gaussian_dataset(\"input\", DIM, benchmark_data_path=BENCHMARK_DATA_PATH, download=True)\n",
    "Y_dataset = get_rotated_gaussian_dataset(\"target\", DIM, benchmark_data_path=BENCHMARK_DATA_PATH)"
   ]
  },
  {
   "cell_type": "code",
   "execution_count": 4,
   "id": "b28b8e48",
   "metadata": {},
   "outputs": [],
   "source": [
    "X_sampler = get_rotated_gaussian_sampler(\"input\", DIM,\n",
    "                                         batch_size=BATCHS_SIZE, benchmark_data_path=BENCHMARK_DATA_PATH)\n",
    "Y_sampler = get_rotated_gaussian_sampler(\"target\", DIM,\n",
    "                                         batch_size=BATCHS_SIZE, benchmark_data_path=BENCHMARK_DATA_PATH)"
   ]
  },
  {
   "cell_type": "code",
   "execution_count": 5,
   "id": "bee89893",
   "metadata": {},
   "outputs": [],
   "source": [
    "stats = get_rotated_gaussian_benchmark_stats(DIM, EPS, BENCHMARK_DATA_PATH)"
   ]
  },
  {
   "cell_type": "code",
   "execution_count": 8,
   "id": "68247c62",
   "metadata": {},
   "outputs": [],
   "source": [
    "mu_X, mu_Y, covariance_X, covariance_Y, optimal_plan_mu, optimal_plan_covariance = stats"
   ]
  },
  {
   "cell_type": "code",
   "execution_count": 9,
   "id": "fb3feb4c",
   "metadata": {},
   "outputs": [
    {
     "ename": "NameError",
     "evalue": "name 'X_sampler' is not defined",
     "output_type": "error",
     "traceback": [
      "\u001b[0;31m---------------------------------------------------------------------------\u001b[0m",
      "\u001b[0;31mNameError\u001b[0m                                 Traceback (most recent call last)",
      "\u001b[0;32m<ipython-input-9-41c1749020ff>\u001b[0m in \u001b[0;36m<module>\u001b[0;34m\u001b[0m\n\u001b[1;32m      1\u001b[0m compute_BW_UVP_with_gt_stats(\n\u001b[0;32m----> 2\u001b[0;31m     \u001b[0mX_sampler\u001b[0m\u001b[0;34m.\u001b[0m\u001b[0msample\u001b[0m\u001b[0;34m(\u001b[0m\u001b[0mbatch_size\u001b[0m\u001b[0;34m)\u001b[0m\u001b[0;34m.\u001b[0m\u001b[0mdetach\u001b[0m\u001b[0;34m(\u001b[0m\u001b[0;34m)\u001b[0m\u001b[0;34m.\u001b[0m\u001b[0mcpu\u001b[0m\u001b[0;34m(\u001b[0m\u001b[0;34m)\u001b[0m\u001b[0;34m.\u001b[0m\u001b[0mnumpy\u001b[0m\u001b[0;34m(\u001b[0m\u001b[0;34m)\u001b[0m\u001b[0;34m,\u001b[0m\u001b[0;34m\u001b[0m\u001b[0;34m\u001b[0m\u001b[0m\n\u001b[0m\u001b[1;32m      3\u001b[0m     \u001b[0mtrue_samples_mu\u001b[0m\u001b[0;34m=\u001b[0m\u001b[0mmu_X\u001b[0m\u001b[0;34m,\u001b[0m\u001b[0;34m\u001b[0m\u001b[0;34m\u001b[0m\u001b[0m\n\u001b[1;32m      4\u001b[0m     \u001b[0mtrue_samples_covariance\u001b[0m\u001b[0;34m=\u001b[0m\u001b[0mcovariance_X\u001b[0m\u001b[0;34m\u001b[0m\u001b[0;34m\u001b[0m\u001b[0m\n\u001b[1;32m      5\u001b[0m )\n",
      "\u001b[0;31mNameError\u001b[0m: name 'X_sampler' is not defined"
     ]
    }
   ],
   "source": [
    "compute_BW_UVP_with_gt_stats(\n",
    "    X_sampler.sample(batch_size).detach().cpu().numpy(),\n",
    "    true_samples_mu=mu_X,\n",
    "    true_samples_covariance=covariance_X\n",
    ")"
   ]
  },
  {
   "cell_type": "code",
   "execution_count": null,
   "id": "a1b0c442",
   "metadata": {},
   "outputs": [],
   "source": []
  }
 ],
 "metadata": {
  "kernelspec": {
   "display_name": "Python 3",
   "language": "python",
   "name": "python3"
  },
  "language_info": {
   "codemirror_mode": {
    "name": "ipython",
    "version": 3
   },
   "file_extension": ".py",
   "mimetype": "text/x-python",
   "name": "python",
   "nbconvert_exporter": "python",
   "pygments_lexer": "ipython3",
   "version": "3.8.5"
  }
 },
 "nbformat": 4,
 "nbformat_minor": 5
}
