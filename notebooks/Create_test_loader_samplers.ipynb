{
 "cells": [
  {
   "cell_type": "code",
   "execution_count": 1,
   "id": "2400768d",
   "metadata": {},
   "outputs": [],
   "source": [
    "import os, sys\n",
    "sys.path.append(\"..\")\n",
    "\n",
    "from tqdm import tqdm\n",
    "import numpy as np\n",
    "import matplotlib.pyplot as plt\n",
    "\n",
    "import torch\n",
    "from torch import nn\n",
    "from torchvision.utils import make_grid\n",
    "\n",
    "from src.model import Glow \n",
    "from src.train import calc_z_shapes\n",
    "\n",
    "import gc\n",
    "\n",
    "from src.langevin_dynamics import (\n",
    "    tensor_list_to_vector, vector_to_tensor_list, sample_z_list, z_list_to_image, latent_langevien_step\n",
    ")"
   ]
  },
  {
   "cell_type": "code",
   "execution_count": 2,
   "id": "95049e33",
   "metadata": {},
   "outputs": [],
   "source": [
    "gc.collect(); torch.cuda.empty_cache()"
   ]
  },
  {
   "cell_type": "markdown",
   "id": "00adf9a8",
   "metadata": {},
   "source": [
    "### Model loading"
   ]
  },
  {
   "cell_type": "code",
   "execution_count": 3,
   "id": "3cf8e15b",
   "metadata": {},
   "outputs": [],
   "source": [
    "N_FLOW = 32\n",
    "N_BLOCK = 4\n",
    "AFFINE = False\n",
    "NO_LU = False\n",
    "IMG_SIZE = 64\n",
    "N_SAMPLE = 20\n",
    "GLOW_DEVICE = \"cuda:4\"\n",
    "DEVICE_IDS = [4]\n",
    "EPS = 1"
   ]
  },
  {
   "cell_type": "code",
   "execution_count": 4,
   "id": "d681f376",
   "metadata": {},
   "outputs": [
    {
     "name": "stderr",
     "output_type": "stream",
     "text": [
      "../src/model.py:102: UserWarning: The given NumPy array is not writeable, and PyTorch does not support non-writeable tensors. This means you can write to the underlying (supposedly non-writeable) NumPy array using the tensor. You may want to copy the array to protect its data or make it writeable before converting it to a tensor. This type of warning will be suppressed for the rest of this program. (Triggered internally at  /pytorch/torch/csrc/utils/tensor_numpy.cpp:141.)\n",
      "  w_s = torch.from_numpy(w_s)\n"
     ]
    }
   ],
   "source": [
    "MODEL_SINGLE = Glow(\n",
    "    3, N_FLOW, N_BLOCK, affine=AFFINE, conv_lu=not NO_LU\n",
    ")\n",
    "MODEL = nn.DataParallel(MODEL_SINGLE, device_ids=DEVICE_IDS)\n",
    "\n",
    "MODEL.load_state_dict(torch.load(\"../data/glow_model.pt\"))\n",
    "SHAPES = calc_z_shapes(3, IMG_SIZE, N_FLOW, N_BLOCK)\n",
    "\n",
    "MODEL = MODEL.to(GLOW_DEVICE)"
   ]
  },
  {
   "cell_type": "code",
   "execution_count": 5,
   "id": "d05ad214",
   "metadata": {},
   "outputs": [
    {
     "name": "stderr",
     "output_type": "stream",
     "text": [
      "100%|██████████| 500/500 [02:46<00:00,  3.01it/s]\n"
     ]
    }
   ],
   "source": [
    "imgs = []\n",
    "\n",
    "with torch.no_grad():\n",
    "    for i in tqdm(range(500)):\n",
    "        z_list = sample_z_list(batch_size=N_SAMPLE, z_shapes=SHAPES, device=GLOW_DEVICE)\n",
    "        z_vector = tensor_list_to_vector(z_list)\n",
    "        img = z_list_to_image(MODEL, z_list)\n",
    "        \n",
    "        imgs.append(img)\n",
    "        \n",
    "imgs_tensor = torch.cat(imgs, dim=0).cpu()"
   ]
  },
  {
   "cell_type": "code",
   "execution_count": 6,
   "id": "d220d386",
   "metadata": {},
   "outputs": [],
   "source": [
    "imgs_tensor = torch.cat(imgs, dim=0).cpu()"
   ]
  },
  {
   "cell_type": "code",
   "execution_count": 7,
   "id": "217e731d",
   "metadata": {},
   "outputs": [],
   "source": [
    "# torch.save(imgs_tensor + np.sqrt(EPS)*torch.randn_like(imgs_tensor),\n",
    "#            f\"../data/glow_generated_degrated_images_eps_{EPS}.torch\")"
   ]
  },
  {
   "cell_type": "code",
   "execution_count": 8,
   "id": "d3533ff3",
   "metadata": {},
   "outputs": [],
   "source": [
    "torch.save(imgs_tensor,\n",
    "           f\"../data/glow_generated_images.torch\")"
   ]
  }
 ],
 "metadata": {
  "kernelspec": {
   "display_name": "Python 3",
   "language": "python",
   "name": "python3"
  },
  "language_info": {
   "codemirror_mode": {
    "name": "ipython",
    "version": 3
   },
   "file_extension": ".py",
   "mimetype": "text/x-python",
   "name": "python",
   "nbconvert_exporter": "python",
   "pygments_lexer": "ipython3",
   "version": "3.8.5"
  }
 },
 "nbformat": 4,
 "nbformat_minor": 5
}
