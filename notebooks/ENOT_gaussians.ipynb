{
 "cells": [
  {
   "cell_type": "markdown",
   "metadata": {},
   "source": [
    "# Code for experiments with ENOT and gaussian benchmark"
   ]
  },
  {
   "cell_type": "markdown",
   "metadata": {},
   "source": [
    "## 1. Imports"
   ]
  },
  {
   "cell_type": "code",
   "execution_count": 1,
   "metadata": {},
   "outputs": [],
   "source": [
    "import matplotlib\n",
    "import math\n",
    "import gc\n",
    "import wandb\n",
    "import numpy as np\n",
    "import matplotlib.pyplot as plt\n",
    "%matplotlib inline\n",
    "\n",
    "from tqdm import tqdm\n",
    "\n",
    "import warnings\n",
    "warnings.filterwarnings('ignore')\n",
    "from IPython.display import clear_output\n",
    "\n",
    "import os, sys\n",
    "sys.path.append(\"..\")\n",
    "\n",
    "import torch\n",
    "from torch import nn\n",
    "from torch.optim import Adam\n",
    "import torch.nn.functional as F\n",
    "\n",
    "from scipy.stats import ortho_group\n",
    "from scipy.linalg import sqrtm, inv\n",
    "\n",
    "from src.fid_score import calculate_frechet_distance\n",
    "from src import distributions\n",
    "from src.tools import unfreeze, freeze\n",
    "\n",
    "from sklearn.metrics import pairwise_distances\n",
    "from sklearn.decomposition import PCA\n",
    "\n",
    "import torch\n",
    "import numpy as np\n",
    "\n",
    "from matplotlib import pyplot as plt\n",
    "\n",
    "from torch.distributions.mixture_same_family import MixtureSameFamily\n",
    "from torch.distributions.categorical import Categorical\n",
    "from torch.distributions.multivariate_normal import MultivariateNormal\n",
    "\n",
    "from sklearn.decomposition import PCA\n",
    "from scipy.stats import ortho_group\n",
    "from scipy.linalg import sqrtm, inv\n",
    "from sklearn.decomposition import PCA\n",
    "\n",
    "from scipy.special import gamma\n",
    "from src.gaussian_benchmark import GaussianBenchmark, get_gaussian_benchmark\n",
    "from src.ENOT import SDE, calculate_noise_norm, MMD, integrate\n",
    "from src.neural_networks import make_net\n",
    "from src.metrics import MMD, compute_BW_UVP"
   ]
  },
  {
   "cell_type": "code",
   "execution_count": 2,
   "metadata": {},
   "outputs": [],
   "source": [
    "gc.collect(); torch.cuda.empty_cache()"
   ]
  },
  {
   "cell_type": "markdown",
   "metadata": {},
   "source": [
    "## 2. Config"
   ]
  },
  {
   "cell_type": "code",
   "execution_count": 3,
   "metadata": {},
   "outputs": [],
   "source": [
    "DIM = 2\n",
    "EPS = 10\n",
    "assert DIM > 1\n",
    "\n",
    "L1 = 1e-10\n",
    "GPU_DEVICE = 1\n",
    "BATCH_SIZE = 128\n",
    "EPSILON = EPS\n",
    "N_STEPS = 10\n",
    "TIME_DIM = 1\n",
    "T_LR = 1e-4\n",
    "D_LR = 1e-4\n",
    "T_ITERS = 10\n",
    "CONSTANT_TIME = False\n",
    "USE_POSITIONAL_ENCODING = False\n",
    "INTEGRAL_SCALE = 1/(DIM)\n",
    "T_GRADIENT_MAX_NORM = float(\"inf\")\n",
    "D_GRADIENT_MAX_NORM = float(\"inf\")\n",
    "IS_RESNET_GENERATOR = False\n",
    "PREDICT_SHIFT = True\n",
    "\n",
    "T_N_HIDDEN = 512\n",
    "T_N_LAYERS = 3\n",
    "\n",
    "D_N_HIDDEN = 512\n",
    "D_N_LAYERS = 3\n",
    "\n",
    "MAX_STEPS = 10000\n",
    "METRICS_INTERVAL = 100\n",
    "SEED = 42\n",
    "CONTINUE = -1"
   ]
  },
  {
   "cell_type": "code",
   "execution_count": 4,
   "metadata": {},
   "outputs": [],
   "source": [
    "EXP_NAME = f'Gaussians_test_EPSILON_{EPSILON}_STEPS_{N_STEPS}_DIM_{DIM}'\n",
    "\n",
    "config = dict(\n",
    "    DIM=DIM,\n",
    "    T_ITERS=T_ITERS,\n",
    "    D_LR=D_LR, T_LR=T_LR,\n",
    "    BATCH_SIZE=BATCH_SIZE,\n",
    "    N_STEPS=N_STEPS,\n",
    "    EPSILON=EPSILON,\n",
    "    CONSTANT_TIME=CONSTANT_TIME,\n",
    "    USE_POSITIONAL_ENCODING=USE_POSITIONAL_ENCODING,\n",
    "    TIME_DIM=TIME_DIM,\n",
    "    INTEGRAL_SCALE=INTEGRAL_SCALE,\n",
    "    T_GRADIENT_MAX_NORM=T_GRADIENT_MAX_NORM,\n",
    "    D_GRADIENT_MAX_NORM=D_GRADIENT_MAX_NORM,\n",
    "    IS_RESNET_GENERATOR=IS_RESNET_GENERATOR,\n",
    "    T_N_HIDDEN=T_N_HIDDEN,\n",
    "    T_N_LAYERS=T_N_LAYERS,\n",
    "    D_N_HIDDEN=D_N_HIDDEN,\n",
    "    D_N_LAYERS=D_N_LAYERS,\n",
    "    PREDICT_SHIFT=PREDICT_SHIFT\n",
    ")"
   ]
  },
  {
   "cell_type": "code",
   "execution_count": 5,
   "metadata": {},
   "outputs": [],
   "source": [
    "assert torch.cuda.is_available()\n",
    "torch.cuda.set_device(GPU_DEVICE)"
   ]
  },
  {
   "cell_type": "markdown",
   "metadata": {},
   "source": [
    "## 3. Initialize Benchmark"
   ]
  },
  {
   "cell_type": "code",
   "execution_count": 6,
   "metadata": {},
   "outputs": [],
   "source": [
    "torch.manual_seed(SEED); np.random.seed(SEED);\n",
    "benchmark = get_gaussian_benchmark(DIM, EPS, f\"cuda:{GPU_DEVICE}\", download=False)\n",
    "\n",
    "X_sampler = benchmark.X_sampler\n",
    "Y_sampler = benchmark.Y_sampler"
   ]
  },
  {
   "cell_type": "code",
   "execution_count": 7,
   "metadata": {},
   "outputs": [
    {
     "data": {
      "text/html": [
       "<style>#sk-container-id-1 {color: black;background-color: white;}#sk-container-id-1 pre{padding: 0;}#sk-container-id-1 div.sk-toggleable {background-color: white;}#sk-container-id-1 label.sk-toggleable__label {cursor: pointer;display: block;width: 100%;margin-bottom: 0;padding: 0.3em;box-sizing: border-box;text-align: center;}#sk-container-id-1 label.sk-toggleable__label-arrow:before {content: \"▸\";float: left;margin-right: 0.25em;color: #696969;}#sk-container-id-1 label.sk-toggleable__label-arrow:hover:before {color: black;}#sk-container-id-1 div.sk-estimator:hover label.sk-toggleable__label-arrow:before {color: black;}#sk-container-id-1 div.sk-toggleable__content {max-height: 0;max-width: 0;overflow: hidden;text-align: left;background-color: #f0f8ff;}#sk-container-id-1 div.sk-toggleable__content pre {margin: 0.2em;color: black;border-radius: 0.25em;background-color: #f0f8ff;}#sk-container-id-1 input.sk-toggleable__control:checked~div.sk-toggleable__content {max-height: 200px;max-width: 100%;overflow: auto;}#sk-container-id-1 input.sk-toggleable__control:checked~label.sk-toggleable__label-arrow:before {content: \"▾\";}#sk-container-id-1 div.sk-estimator input.sk-toggleable__control:checked~label.sk-toggleable__label {background-color: #d4ebff;}#sk-container-id-1 div.sk-label input.sk-toggleable__control:checked~label.sk-toggleable__label {background-color: #d4ebff;}#sk-container-id-1 input.sk-hidden--visually {border: 0;clip: rect(1px 1px 1px 1px);clip: rect(1px, 1px, 1px, 1px);height: 1px;margin: -1px;overflow: hidden;padding: 0;position: absolute;width: 1px;}#sk-container-id-1 div.sk-estimator {font-family: monospace;background-color: #f0f8ff;border: 1px dotted black;border-radius: 0.25em;box-sizing: border-box;margin-bottom: 0.5em;}#sk-container-id-1 div.sk-estimator:hover {background-color: #d4ebff;}#sk-container-id-1 div.sk-parallel-item::after {content: \"\";width: 100%;border-bottom: 1px solid gray;flex-grow: 1;}#sk-container-id-1 div.sk-label:hover label.sk-toggleable__label {background-color: #d4ebff;}#sk-container-id-1 div.sk-serial::before {content: \"\";position: absolute;border-left: 1px solid gray;box-sizing: border-box;top: 0;bottom: 0;left: 50%;z-index: 0;}#sk-container-id-1 div.sk-serial {display: flex;flex-direction: column;align-items: center;background-color: white;padding-right: 0.2em;padding-left: 0.2em;position: relative;}#sk-container-id-1 div.sk-item {position: relative;z-index: 1;}#sk-container-id-1 div.sk-parallel {display: flex;align-items: stretch;justify-content: center;background-color: white;position: relative;}#sk-container-id-1 div.sk-item::before, #sk-container-id-1 div.sk-parallel-item::before {content: \"\";position: absolute;border-left: 1px solid gray;box-sizing: border-box;top: 0;bottom: 0;left: 50%;z-index: -1;}#sk-container-id-1 div.sk-parallel-item {display: flex;flex-direction: column;z-index: 1;position: relative;background-color: white;}#sk-container-id-1 div.sk-parallel-item:first-child::after {align-self: flex-end;width: 50%;}#sk-container-id-1 div.sk-parallel-item:last-child::after {align-self: flex-start;width: 50%;}#sk-container-id-1 div.sk-parallel-item:only-child::after {width: 0;}#sk-container-id-1 div.sk-dashed-wrapped {border: 1px dashed gray;margin: 0 0.4em 0.5em 0.4em;box-sizing: border-box;padding-bottom: 0.4em;background-color: white;}#sk-container-id-1 div.sk-label label {font-family: monospace;font-weight: bold;display: inline-block;line-height: 1.2em;}#sk-container-id-1 div.sk-label-container {text-align: center;}#sk-container-id-1 div.sk-container {/* jupyter's `normalize.less` sets `[hidden] { display: none; }` but bootstrap.min.css set `[hidden] { display: none !important; }` so we also need the `!important` here to be able to override the default hidden behavior on the sphinx rendered scikit-learn.org. See: https://github.com/scikit-learn/scikit-learn/issues/21755 */display: inline-block !important;position: relative;}#sk-container-id-1 div.sk-text-repr-fallback {display: none;}</style><div id=\"sk-container-id-1\" class=\"sk-top-container\"><div class=\"sk-text-repr-fallback\"><pre>PCA(n_components=2)</pre><b>In a Jupyter environment, please rerun this cell to show the HTML representation or trust the notebook. <br />On GitHub, the HTML representation is unable to render, please try loading this page with nbviewer.org.</b></div><div class=\"sk-container\" hidden><div class=\"sk-item\"><div class=\"sk-estimator sk-toggleable\"><input class=\"sk-toggleable__control sk-hidden--visually\" id=\"sk-estimator-id-1\" type=\"checkbox\" checked><label for=\"sk-estimator-id-1\" class=\"sk-toggleable__label sk-toggleable__label-arrow\">PCA</label><div class=\"sk-toggleable__content\"><pre>PCA(n_components=2)</pre></div></div></div></div></div>"
      ],
      "text/plain": [
       "PCA(n_components=2)"
      ]
     },
     "execution_count": 7,
     "metadata": {},
     "output_type": "execute_result"
    }
   ],
   "source": [
    "pca = PCA(n_components=2)\n",
    "\n",
    "samples, labels = X_sampler.sample(10000)\n",
    "samples = samples.cpu()\n",
    "\n",
    "target_samples, target_labels = Y_sampler.sample(10000)\n",
    "target_samples = target_samples.cpu()\n",
    "\n",
    "pca.fit(torch.cat((samples, target_samples)))"
   ]
  },
  {
   "cell_type": "code",
   "execution_count": 8,
   "metadata": {},
   "outputs": [
    {
     "data": {
      "image/png": "[encoded data removed]",
      "text/plain": [
       "<Figure size 432x288 with 1 Axes>"
      ]
     },
     "metadata": {
      "needs_background": "light"
     },
     "output_type": "display_data"
    }
   ],
   "source": [
    "samples_pca = pca.transform(samples)\n",
    "\n",
    "plt.scatter(samples_pca[:, 0], samples_pca[:, 1], c=labels)\n",
    "plt.xlim(-20, 20)\n",
    "plt.ylim(-20, 20)\n",
    "plt.grid()"
   ]
  },
  {
   "cell_type": "code",
   "execution_count": 9,
   "metadata": {},
   "outputs": [
    {
     "data": {
      "image/png": "[encoded data removed]",
      "text/plain": [
       "<Figure size 432x288 with 1 Axes>"
      ]
     },
     "metadata": {
      "needs_background": "light"
     },
     "output_type": "display_data"
    }
   ],
   "source": [
    "target_samples_pca = pca.transform(target_samples)\n",
    "plt.scatter(target_samples_pca[:, 0], target_samples_pca[:, 1], c=target_labels)\n",
    "plt.xlim(-40, 40)\n",
    "plt.ylim(-40, 40)\n",
    "plt.grid()"
   ]
  },
  {
   "cell_type": "markdown",
   "metadata": {},
   "source": [
    "## 6. Model initialization"
   ]
  },
  {
   "cell_type": "code",
   "execution_count": 10,
   "metadata": {},
   "outputs": [
    {
     "name": "stdout",
     "output_type": "stream",
     "text": [
      "T params: 528390\n",
      "D params: 527361\n"
     ]
    }
   ],
   "source": [
    "D = make_net(DIM, 1, n_layers=D_N_LAYERS, n_hiddens=D_N_HIDDEN).cuda()\n",
    "    \n",
    "T = make_net(DIM+TIME_DIM, DIM, n_layers=T_N_LAYERS, n_hiddens=T_N_HIDDEN).cuda()\n",
    "T = SDE(T, EPSILON, N_STEPS, TIME_DIM, IS_RESNET_GENERATOR, \n",
    "        predict_shift=PREDICT_SHIFT, use_positional_encoding=USE_POSITIONAL_ENCODING,\n",
    "        constan_time=CONSTANT_TIME).cuda()\n",
    "\n",
    "print('T params:', np.sum([np.prod(p.shape) for p in T.parameters()]))\n",
    "print('D params:', np.sum([np.prod(p.shape) for p in D.parameters()]))"
   ]
  },
  {
   "cell_type": "code",
   "execution_count": 11,
   "metadata": {},
   "outputs": [],
   "source": [
    "T_opt = torch.optim.Adam(T.parameters(), lr=T_LR, weight_decay=1e-10, betas=(0, 0.999))\n",
    "D_opt = torch.optim.Adam(D.parameters(), lr=D_LR, weight_decay=1e-10, betas=(0, 0.999))\n",
    "\n",
    "if CONTINUE > -1:\n",
    "    T_opt.load_state_dict(torch.load(os.path.join(OUTPUT_PATH, f'T_opt_{SEED}_{CONTINUE}.pt')))\n",
    "    T.load_state_dict(torch.load(os.path.join(OUTPUT_PATH, f'T_{SEED}_{CONTINUE}.pt')))\n",
    "    D_opt.load_state_dict(torch.load(os.path.join(OUTPUT_PATH, f'D_opt_{SEED}_{CONTINUE}.pt')))\n",
    "    D.load_state_dict(torch.load(os.path.join(OUTPUT_PATH, f'D_{SEED}_{CONTINUE}.pt')))"
   ]
  },
  {
   "cell_type": "markdown",
   "metadata": {},
   "source": [
    "## 7. Training"
   ]
  },
  {
   "cell_type": "code",
   "execution_count": 12,
   "metadata": {},
   "outputs": [
    {
     "name": "stderr",
     "output_type": "stream",
     "text": [
      "\u001b[34m\u001b[1mwandb\u001b[0m: Currently logged in as: \u001b[33mschrodinger_bridge\u001b[0m (use `wandb login --relogin` to force relogin)\n",
      "\u001b[34m\u001b[1mwandb\u001b[0m: wandb version 0.13.7 is available!  To upgrade, please run:\n",
      "\u001b[34m\u001b[1mwandb\u001b[0m:  $ pip install wandb --upgrade\n"
     ]
    },
    {
     "data": {
      "text/html": [
       "\n",
       "                Tracking run with wandb version 0.10.33<br/>\n",
       "                Syncing run <strong style=\"color:#cdcd00\">Gaussians_test_EPSILON_10_STEPS_10_DIM_2</strong> to <a href=\"https://wandb.ai\" target=\"_blank\">Weights & Biases</a> <a href=\"https://docs.wandb.com/integrations/jupyter.html\" target=\"_blank\">(Documentation)</a>.<br/>\n",
       "                Project page: <a href=\"https://wandb.ai/schrodinger_bridge/SchrodingerBridge\" target=\"_blank\">https://wandb.ai/schrodinger_bridge/SchrodingerBridge</a><br/>\n",
       "                Run page: <a href=\"https://wandb.ai/schrodinger_bridge/SchrodingerBridge/runs/2km7bzd4\" target=\"_blank\">https://wandb.ai/schrodinger_bridge/SchrodingerBridge/runs/2km7bzd4</a><br/>\n",
       "                Run data is saved locally in <code>/home/n.gushchin/EntropicOTBenchmark/notebooks/wandb/run-20230102_131553-2km7bzd4</code><br/><br/>\n",
       "            "
      ],
      "text/plain": [
       "<IPython.core.display.HTML object>"
      ]
     },
     "metadata": {},
     "output_type": "display_data"
    },
    {
     "data": {
      "text/html": [
       "<h1>Run(2km7bzd4)</h1><iframe src=\"https://wandb.ai/schrodinger_bridge/SchrodingerBridge/runs/2km7bzd4\" style=\"border:none;width:100%;height:400px\"></iframe>"
      ],
      "text/plain": [
       "<wandb.sdk.wandb_run.Run at 0x7ff170053850>"
      ]
     },
     "execution_count": 12,
     "metadata": {},
     "output_type": "execute_result"
    }
   ],
   "source": [
    "wandb.init(name=EXP_NAME, config=config, project='SchrodingerBridge')"
   ]
  },
  {
   "cell_type": "code",
   "execution_count": 13,
   "metadata": {},
   "outputs": [
    {
     "data": {
      "image/png": "[encoded data removed]",
      "text/plain": [
       "<Figure size 432x288 with 1 Axes>"
      ]
     },
     "metadata": {
      "needs_background": "light"
     },
     "output_type": "display_data"
    },
    {
     "name": "stderr",
     "output_type": "stream",
     "text": [
      "  6%|▌         | 554/10000 [07:37<2:09:52,  1.21it/s] \n"
     ]
    },
    {
     "ename": "KeyboardInterrupt",
     "evalue": "",
     "output_type": "error",
     "traceback": [
      "\u001b[0;31m---------------------------------------------------------------------------\u001b[0m",
      "\u001b[0;31mKeyboardInterrupt\u001b[0m                         Traceback (most recent call last)",
      "\u001b[0;32m<ipython-input-13-b52bb91316ca>\u001b[0m in \u001b[0;36m<module>\u001b[0;34m\u001b[0m\n\u001b[1;32m    104\u001b[0m             \u001b[0mwandb\u001b[0m\u001b[0;34m.\u001b[0m\u001b[0mlog\u001b[0m\u001b[0;34m(\u001b[0m\u001b[0;34m{\u001b[0m\u001b[0;34mf'BW-UVP_target'\u001b[0m \u001b[0;34m:\u001b[0m \u001b[0mbw_uvp\u001b[0m\u001b[0;34m}\u001b[0m\u001b[0;34m,\u001b[0m \u001b[0mstep\u001b[0m\u001b[0;34m=\u001b[0m\u001b[0mstep\u001b[0m\u001b[0;34m)\u001b[0m\u001b[0;34m\u001b[0m\u001b[0;34m\u001b[0m\u001b[0m\n\u001b[1;32m    105\u001b[0m \u001b[0;34m\u001b[0m\u001b[0m\n\u001b[0;32m--> 106\u001b[0;31m     \u001b[0mgc\u001b[0m\u001b[0;34m.\u001b[0m\u001b[0mcollect\u001b[0m\u001b[0;34m(\u001b[0m\u001b[0;34m)\u001b[0m\u001b[0;34m;\u001b[0m \u001b[0mtorch\u001b[0m\u001b[0;34m.\u001b[0m\u001b[0mcuda\u001b[0m\u001b[0;34m.\u001b[0m\u001b[0mempty_cache\u001b[0m\u001b[0;34m(\u001b[0m\u001b[0;34m)\u001b[0m\u001b[0;34m\u001b[0m\u001b[0;34m\u001b[0m\u001b[0m\n\u001b[0m",
      "\u001b[0;31mKeyboardInterrupt\u001b[0m: "
     ]
    }
   ],
   "source": [
    "metrics = []\n",
    "\n",
    "noise_norm = calculate_noise_norm(DIM, N_STEPS, EPSILON)\n",
    "wandb.log({f'Noise norm' : noise_norm}, step=0)\n",
    "\n",
    "torch.manual_seed(SEED); np.random.seed(SEED)\n",
    "\n",
    "### metrics\n",
    "X = X_sampler.sample(1000)[0]\n",
    "Y = Y_sampler.sample(1000)[0]\n",
    "norm_mmd = MMD(X, Y, kernel=\"rbf\", device=\"cuda\", scale_factor=DIM)\n",
    "wandb.log({f'norm_mmd' : norm_mmd}, step=0)\n",
    "###\n",
    "\n",
    "for step in tqdm(range(CONTINUE + 1, MAX_STEPS)):\n",
    "    unfreeze(T); freeze(D)\n",
    "    for t_iter in range(T_ITERS):\n",
    "        T_opt.zero_grad()\n",
    "        \n",
    "        X0, X1 = X_sampler.sample(BATCH_SIZE)[0], Y_sampler.sample(BATCH_SIZE)[0]\n",
    "#         X0.requires_grad_()\n",
    "        \n",
    "        trajectory, times, shifts = T(X0)\n",
    "        XN = trajectory[:, -1]\n",
    "        norm = torch.norm(shifts.flatten(start_dim=2), p=2, dim=-1)**2\n",
    "        integral = INTEGRAL_SCALE*integrate(norm, times)\n",
    "        \n",
    "        T_loss = (integral + D(X1) - D(XN)).mean()\n",
    "        T_loss.backward()\n",
    "        T_gradient_norm = torch.nn.utils.clip_grad_norm_(T.parameters(), max_norm=T_GRADIENT_MAX_NORM)\n",
    "        T_opt.step()\n",
    "    \n",
    "    wandb.log({f'T gradient norm' : T_gradient_norm.item()}, step=step)\n",
    "    wandb.log({f'Mean norm' : torch.sqrt(norm).mean().item()}, step=step)\n",
    "    wandb.log({f'T_loss' : T_loss.item()}, step=step)\n",
    "        \n",
    "    del T_loss, X0, X1, XN; gc.collect(); torch.cuda.empty_cache()\n",
    "        \n",
    "    freeze(T); unfreeze(D)\n",
    "    \n",
    "    D_opt.zero_grad()\n",
    "    \n",
    "    X0, X1 = X_sampler.sample(BATCH_SIZE)[0], Y_sampler.sample(BATCH_SIZE)[0]\n",
    "    trajectory, times, shifts = T(X0)\n",
    "    XN = trajectory[:, -1]\n",
    "    norm = torch.norm(shifts.flatten(start_dim=2), p=2, dim=-1)**2\n",
    "    integral = INTEGRAL_SCALE*integrate(norm, times)\n",
    "    \n",
    "    D_X1 = D(X1)\n",
    "    D_XN = D(XN)\n",
    "    \n",
    "    D_loss = (-integral - D_X1 + D_XN).mean()\n",
    "    D_loss.backward()\n",
    "    D_gradient_norm = torch.nn.utils.clip_grad_norm_(D.parameters(), max_norm=D_GRADIENT_MAX_NORM)\n",
    "    D_opt.step()\n",
    "    \n",
    "    wandb.log({f'D gradient norm' : D_gradient_norm.item()}, step=step)\n",
    "    wandb.log({f'D_loss' : D_loss.item()}, step=step)\n",
    "    \n",
    "    wandb.log({f'integral' : integral.mean().item()}, step=step)\n",
    "    wandb.log({f'D_X1' : D_X1.mean().item()}, step=step)\n",
    "    wandb.log({f'D_XN' : D_XN.mean().item()}, step=step)\n",
    "    del D_loss, X0, X1, XN; gc.collect(); torch.cuda.empty_cache()\n",
    "    \n",
    "    if step % METRICS_INTERVAL == 0:\n",
    "        X = X_sampler.sample(1000)[0]\n",
    "        Y = Y_sampler.sample(1000)[0]\n",
    "\n",
    "        with torch.no_grad():\n",
    "            trajectory, times, shifts = T(X)\n",
    "            XN = trajectory[:, -1]\n",
    "\n",
    "        Y_pca = pca.transform(Y.cpu())\n",
    "        XN_pca = pca.transform(XN.detach().cpu())\n",
    "        \n",
    "        clear_output(wait=True)\n",
    "        plt.scatter(XN_pca[:, 0], XN_pca[:, 1], label=\"Model samples\")\n",
    "        plt.scatter(Y_pca[:, 0], Y_pca[:, 1], label=\"Target samples\")\n",
    "        plt.legend()\n",
    "        plt.grid()\n",
    "        plt.title(\"Target and learned distributions\")\n",
    "        plt.xlim(-40, 40)\n",
    "        plt.ylim(-40, 40)\n",
    "        plt.show()\n",
    "        \n",
    "        # mmd\n",
    "        mmd = MMD(Y, XN, kernel=\"rbf\", device=\"cuda\", scale_factor=DIM)/norm_mmd\n",
    "        wandb.log({f'MMD_model_target' : mmd}, step=step)\n",
    "        \n",
    "        Y = Y_sampler.sample(1000)[0]\n",
    "        Y_prime = Y_sampler.sample(1000)[0]\n",
    "\n",
    "        mmd = MMD(Y, Y_prime, kernel=\"rbf\", device=\"cuda\", scale_factor=DIM)/norm_mmd\n",
    "        wandb.log({f'Y_sampler_mmd' : mmd}, step=step)\n",
    "        \n",
    "        # bw-uvp\n",
    "        X = X_sampler.sample(100000)[0]\n",
    "        Y = Y_sampler.sample(100000)[0]\n",
    "        with torch.no_grad():\n",
    "            trajectory, times, shifts = T(X)\n",
    "            XN = trajectory[:, -1]\n",
    "            \n",
    "            bw_uvp = compute_BW_UVP(XN.cpu().numpy(), Y.cpu().numpy())\n",
    "            wandb.log({f'BW-UVP_target' : bw_uvp}, step=step)\n",
    "\n",
    "    gc.collect(); torch.cuda.empty_cache()"
   ]
  },
  {
   "cell_type": "code",
   "execution_count": null,
   "metadata": {},
   "outputs": [],
   "source": []
  }
 ],
 "metadata": {
  "kernelspec": {
   "display_name": "Python 3",
   "language": "python",
   "name": "python3"
  },
  "language_info": {
   "codemirror_mode": {
    "name": "ipython",
    "version": 3
   },
   "file_extension": ".py",
   "mimetype": "text/x-python",
   "name": "python",
   "nbconvert_exporter": "python",
   "pygments_lexer": "ipython3",
   "version": "3.8.5"
  }
 },
 "nbformat": 4,
 "nbformat_minor": 4
}
